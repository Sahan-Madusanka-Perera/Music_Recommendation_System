{
 "cells": [
  {
   "cell_type": "markdown",
   "id": "64192187",
   "metadata": {},
   "source": [
    "## Data Preprocessing"
   ]
  },
  {
   "cell_type": "code",
   "execution_count": 4,
   "id": "016987ea",
   "metadata": {},
   "outputs": [],
   "source": [
    "import os\n",
    "import numpy as np\n",
    "from PIL import Image\n",
    "import cv2\n",
    "from hashlib import md5\n",
    "from tqdm.notebook import tqdm\n",
    "from sklearn.preprocessing import LabelEncoder\n",
    "from tensorflow.keras.utils import to_categorical\n"
   ]
  },
  {
   "cell_type": "markdown",
   "id": "475d615d",
   "metadata": {},
   "source": [
    "# config and storeage"
   ]
  },
  {
   "cell_type": "code",
   "execution_count": 5,
   "id": "c0b6fb76-d551-49c2-b112-abe1c1feba5c",
   "metadata": {},
   "outputs": [],
   "source": [
    "\n",
    "# --- Config ---\n",
    "INPUT_DIR = \"../../data/raw/fer2013/train\"\n",
    "OUTPUT_FILE = \"../../data/processed/FC211003_Suneth/train\"\n",
    "TARGET_SIZE = (48, 48)\n",
    "MIN_FACE_CONFIDENCE = 1.1\n",
    "MIN_NEIGHBORS = 4\n",
    "MERGE_MAP = {\n",
    "    \"angry\": \"stressed\",\n",
    "    \"disgust\": \"stressed\",\n",
    "    \"happy\": \"happy\",\n",
    "    \"sad\": \"sad\",\n",
    "    \"neutral\": \"neutral\"\n",
    "}\n",
    "\n",
    "\n",
    "# --- Storage ---\n",
    "images = []\n",
    "labels = []\n",
    "face_cascade = cv2.CascadeClassifier(cv2.data.haarcascades + \"haarcascade_frontalface_default.xml\")\n",
    "seen_hashes = set()\n"
   ]
  },
  {
   "cell_type": "markdown",
   "id": "921f7a17-5c6b-4bbf-aafc-fc0df8f4a3f4",
   "metadata": {},
   "source": [
    "## PreProcessing"
   ]
  },
  {
   "cell_type": "code",
   "execution_count": 6,
   "id": "87d95b19",
   "metadata": {},
   "outputs": [
    {
     "name": "stdout",
     "output_type": "stream",
     "text": [
      "Starting preprocessing...\n"
     ]
    },
    {
     "data": {
      "application/vnd.jupyter.widget-view+json": {
       "model_id": "e32c048b4c40428985f3f2c71e8fcd4e",
       "version_major": 2,
       "version_minor": 0
      },
      "text/plain": [
       "Classes:   0%|          | 0/7 [00:00<?, ?it/s]"
      ]
     },
     "metadata": {},
     "output_type": "display_data"
    },
    {
     "data": {
      "application/vnd.jupyter.widget-view+json": {
       "model_id": "",
       "version_major": 2,
       "version_minor": 0
      },
      "text/plain": [
       "angry:   0%|          | 0/3995 [00:00<?, ?it/s]"
      ]
     },
     "metadata": {},
     "output_type": "display_data"
    },
    {
     "data": {
      "application/vnd.jupyter.widget-view+json": {
       "model_id": "",
       "version_major": 2,
       "version_minor": 0
      },
      "text/plain": [
       "disgust:   0%|          | 0/436 [00:00<?, ?it/s]"
      ]
     },
     "metadata": {},
     "output_type": "display_data"
    },
    {
     "data": {
      "application/vnd.jupyter.widget-view+json": {
       "model_id": "",
       "version_major": 2,
       "version_minor": 0
      },
      "text/plain": [
       "happy:   0%|          | 0/7215 [00:00<?, ?it/s]"
      ]
     },
     "metadata": {},
     "output_type": "display_data"
    },
    {
     "data": {
      "application/vnd.jupyter.widget-view+json": {
       "model_id": "",
       "version_major": 2,
       "version_minor": 0
      },
      "text/plain": [
       "neutral:   0%|          | 0/4965 [00:00<?, ?it/s]"
      ]
     },
     "metadata": {},
     "output_type": "display_data"
    },
    {
     "data": {
      "application/vnd.jupyter.widget-view+json": {
       "model_id": "",
       "version_major": 2,
       "version_minor": 0
      },
      "text/plain": [
       "sad:   0%|          | 0/4830 [00:00<?, ?it/s]"
      ]
     },
     "metadata": {},
     "output_type": "display_data"
    }
   ],
   "source": [
    "print(\"Starting preprocessing...\")\n",
    "\n",
    "for original_class in tqdm(os.listdir(INPUT_DIR), desc=\"Classes\"):\n",
    "    class_path = os.path.join(INPUT_DIR, original_class)\n",
    "    if not os.path.isdir(class_path):\n",
    "        continue\n",
    "\n",
    "    merged_class = MERGE_MAP.get(original_class.lower())\n",
    "    if merged_class is None:\n",
    "        continue\n",
    "\n",
    "    for file_name in tqdm(os.listdir(class_path), desc=original_class, leave=False):\n",
    "        fpath = os.path.join(class_path, file_name)\n",
    "\n",
    "        try:\n",
    "            # Load image and check hash\n",
    "            with open(fpath, 'rb') as f:\n",
    "                img_hash = md5(f.read()).hexdigest()\n",
    "            if img_hash in seen_hashes:\n",
    "                continue  # skip duplicates\n",
    "            seen_hashes.add(img_hash)\n",
    "\n",
    "            # Load and convert\n",
    "            img = Image.open(fpath).convert(\"L\")\n",
    "            img_np = np.array(img)\n",
    "\n",
    "            # Face detection\n",
    "            faces = face_cascade.detectMultiScale(img_np, scaleFactor=MIN_FACE_CONFIDENCE, minNeighbors=MIN_NEIGHBORS)\n",
    "            if len(faces) == 0:\n",
    "                continue  # skip if no face detected\n",
    "\n",
    "            # Resize and normalize\n",
    "            img_resized = Image.fromarray(img_np).resize(TARGET_SIZE)\n",
    "            img_array = np.array(img_resized) / 255.0\n",
    "            img_array = np.expand_dims(img_array, axis=-1)  # shape: (48, 48, 1)\n",
    "\n",
    "            images.append(img_array)\n",
    "            labels.append(merged_class)\n",
    "\n",
    "        except Exception as e:\n",
    "            print(f\"[ERROR] {fpath}: {e}\")\n"
   ]
  },
  {
   "cell_type": "markdown",
   "id": "d783caa8",
   "metadata": {},
   "source": [
    "# --- Encode labels ---\n",
    "output saving as a single.npz file"
   ]
  },
  {
   "cell_type": "code",
   "execution_count": 7,
   "id": "0e8e42fb-b214-462c-8eaa-100402cb0053",
   "metadata": {},
   "outputs": [
    {
     "name": "stdout",
     "output_type": "stream",
     "text": [
      "Encoding labels...\n",
      "Saving 6551 samples to ../../data/processed/FC211003_Suneth/train...\n",
      "Done.\n"
     ]
    }
   ],
   "source": [
    "print(\"Encoding labels...\")\n",
    "le = LabelEncoder()\n",
    "y_encoded = le.fit_transform(labels)\n",
    "y_onehot = to_categorical(y_encoded)\n",
    "\n",
    "# --- Convert and Save ---\n",
    "X = np.array(images, dtype=np.float32)\n",
    "y = np.array(y_onehot, dtype=np.float32)\n",
    "\n",
    "print(f\"Saving {X.shape[0]} samples to {OUTPUT_FILE}...\")\n",
    "np.savez_compressed(OUTPUT_FILE, X=X, y=y)\n",
    "print(\"Done.\")\n"
   ]
  },
  {
   "cell_type": "code",
   "execution_count": null,
   "id": "b6707fe8-4ae2-4966-968f-6968b6351cb0",
   "metadata": {},
   "outputs": [],
   "source": []
  }
 ],
 "metadata": {
  "kernelspec": {
   "display_name": "Python 3 (ipykernel)",
   "language": "python",
   "name": "python3"
  },
  "language_info": {
   "codemirror_mode": {
    "name": "ipython",
    "version": 3
   },
   "file_extension": ".py",
   "mimetype": "text/x-python",
   "name": "python",
   "nbconvert_exporter": "python",
   "pygments_lexer": "ipython3",
   "version": "3.9.23"
  }
 },
 "nbformat": 4,
 "nbformat_minor": 5
}
