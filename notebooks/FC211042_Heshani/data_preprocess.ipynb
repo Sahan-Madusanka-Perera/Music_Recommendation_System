{
 "cells": [
  {
   "cell_type": "markdown",
   "id": "1b19a7a5-9a70-409c-bdb8-02fafbb11526",
   "metadata": {},
   "source": [
    "# FER2013 preprocessing for MobileNetV2(GrayScale  48x48)\n",
    "\n",
    "- Filters corrupted/low-quality images\n",
    "- Rescales pixel values and applies mean-std normalization\n",
    "- Drop selected emotion classes\n",
    "- Splits into train/validation/test sets\n",
    "- Saves images only if not already processed\n",
    "- Suitable for: MobileNetV2 training on grayscale FER2013 data\n"
   ]
  },
  {
   "cell_type": "markdown",
   "id": "7a0284a2-9729-491d-a464-53eed513c9ea",
   "metadata": {},
   "source": [
    "## Imports & Configuration"
   ]
  },
  {
   "cell_type": "code",
   "execution_count": 28,
   "id": "f68db838-d33b-4727-a225-a9994cb7c1ab",
   "metadata": {
    "jp-MarkdownHeadingCollapsed": true
   },
   "outputs": [
    {
     "name": "stdout",
     "output_type": "stream",
     "text": [
      "TensorFlow Version: 2.13.0\n",
      "OpenCV Version: 4.8.0\n"
     ]
    }
   ],
   "source": [
    "import os\n",
    "import numpy as np\n",
    "import pandas as pd\n",
    "import matplotlib.pyplot as plt\n",
    "import seaborn as sns\n",
    "import cv2\n",
    "from PIL import Image\n",
    "from pathlib import Path\n",
    "from collections import Counter\n",
    "\n",
    "from sklearn.model_selection import train_test_split\n",
    "from sklearn.utils import class_weight\n",
    "\n",
    "# TensorFlow imports\n",
    "import tensorflow as tf\n",
    "from tensorflow.keras.preprocessing.image import ImageDataGenerator\n",
    "from tensorflow.keras.utils import to_categorical\n",
    "\n",
    "# Configuration\n",
    "plt.style.use('ggplot')\n",
    "%matplotlib inline\n",
    "\n",
    "# Set random seeds for reproducibility\n",
    "np.random.seed(42)\n",
    "tf.random.set_seed(42)\n",
    "\n",
    "# Print versions\n",
    "print(f\"TensorFlow Version: {tf.__version__}\")\n",
    "print(f\"OpenCV Version: {cv2.__version__}\")\n",
    "\n",
    "# Define constants\n",
    "IMG_SIZE = (48, 48)\n",
    "BATCH_SIZE = 64\n",
    "INPUT_SHAPE = (*IMG_SIZE, 1)  # Grayscale single channel\n"
   ]
  },
  {
   "cell_type": "code",
   "execution_count": 32,
   "id": "29bb8792-dfc0-4247-8e5e-b8657899dd75",
   "metadata": {
    "editable": true,
    "slideshow": {
     "slide_type": ""
    },
    "tags": []
   },
   "outputs": [
    {
     "name": "stdout",
     "output_type": "stream",
     "text": [
      "Selected classes: ['angry', 'happy', 'sad', 'surprise', 'neutral']\n",
      "Input shape: (48, 48, 1)\n",
      "\n",
      "Class-wise raw train samples:\n",
      "Counter({'happy': 7215, 'neutral': 4965, 'sad': 4830, 'angry': 3995, 'surprise': 3171})\n",
      "\n",
      "Class-wise raw test samples:\n",
      "Counter({'happy': 1774, 'sad': 1247, 'neutral': 1233, 'angry': 958, 'surprise': 831})\n",
      "\n",
      "Total raw train samples: 24176\n",
      "Total raw test samples: 6043\n"
     ]
    }
   ],
   "source": [
    "# Define base directory and paths\n",
    "BASE_DIR = '../../data/raw/fer2013/'\n",
    "TRAIN_DIR = os.path.join(BASE_DIR, 'train')\n",
    "TEST_DIR = os.path.join(BASE_DIR, 'test')\n",
    "\n",
    "#Update the classes\n",
    "SELECTED_CLASSES = [\"angry\", \"happy\", \"sad\", \"surprise\", \"neutral\"]\n",
    "NUM_CLASSES = len(SELECTED_CLASSES)\n",
    "\n",
    "print(f\"Selected classes: {SELECTED_CLASSES}\")\n",
    "print(f\"Input shape: {INPUT_SHAPE}\")\n",
    "\n",
    "#print data summary\n",
    "def count_class_samples(directory, valid_classes):\n",
    "    class_counts = Counter()\n",
    "    for emotion in os.listdir(directory):\n",
    "        if emotion not in valid_classes:\n",
    "            continue\n",
    "        emotion_path =  os.path.join(directory, emotion)\n",
    "        class_counts[emotion] = len(os.listdir(emotion_path))\n",
    "    return class_counts\n",
    "\n",
    "train_counts_raw = count_class_samples(TRAIN_DIR, SELECTED_CLASSES)\n",
    "test_counts_raw = count_class_samples(TEST_DIR, SELECTED_CLASSES)\n",
    "\n",
    "print(\"\\nClass-wise raw train samples:\")\n",
    "print(train_counts_raw)\n",
    "print(\"\\nClass-wise raw test samples:\")\n",
    "print(test_counts_raw)\n",
    "print(f\"\\nTotal raw train samples: {sum(train_counts_raw.values())}\")\n",
    "print(f\"Total raw test samples: {sum(test_counts_raw.values())}\")\n",
    "\n"
   ]
  },
  {
   "cell_type": "markdown",
   "id": "e6e940f1-b157-4bf3-818b-6455ebd333d3",
   "metadata": {},
   "source": [
    "## Load and Preprocess Data with Filtering"
   ]
  },
  {
   "cell_type": "code",
   "execution_count": 9,
   "id": "81f4df0f-d418-4bab-bc29-a23e3d08ed67",
   "metadata": {},
   "outputs": [
    {
     "name": "stdout",
     "output_type": "stream",
     "text": [
      "Training data shape: (24164, 48, 48, 1)\n",
      "Test data shape: (6042, 48, 48, 1)\n",
      "Corrupted train images removed: 12\n",
      "Corrupted test images removed: 1\n"
     ]
    }
   ],
   "source": [
    "def is_image_valid(img_path):\n",
    "    \"\"\"\n",
    "    check image validity: grayscale shape, not blank, not corrupted\n",
    "    \"\"\"\n",
    "    try:\n",
    "        img = cv2.imread(str(img_path), cv2.IMREAD_GRAYSCALE)\n",
    "        if img is None or img.shape != IMG_SIZE:\n",
    "            return False\n",
    "        if np.var(img) < 5:\n",
    "            return False\n",
    "        return True\n",
    "    except:\n",
    "        return False\n",
    "        \n",
    "def preprocess_image(img_path):\n",
    "    \"\"\"\n",
    "    Basic preprocessing for FER2013 images:\n",
    "    - Load as grayscale\n",
    "    - Normalize to [0, 1]\n",
    "    - Add channel dimension\n",
    "    \"\"\"\n",
    "    # Load image (already grayscale 48x48)\n",
    "    img = cv2.imread(img_path, cv2.IMREAD_GRAYSCALE)\n",
    "    \n",
    "    # Normalize to [0, 1]\n",
    "    img_normalized = img.astype(np.float32) / 255.0\n",
    "    \n",
    "    # Add channel dimension for CNN: (48, 48) → (48, 48, 1)\n",
    "    img_final = np.expand_dims(img_normalized, axis=-1)\n",
    "    \n",
    "    return img_final\n",
    "\n",
    "def load_and_preprocess_data(directory, valid_classes):\n",
    "    \"\"\"\n",
    "    Load images and labels from directory, apply preprocessing\n",
    "    \"\"\"\n",
    "    images = []\n",
    "    labels = []\n",
    "    corrupted_count = 0\n",
    "    \n",
    "    for emotion in os.listdir(directory):\n",
    "        if emotion not in valid_classes:\n",
    "            continue\n",
    "        emotion_path = os.path.join(directory, emotion)\n",
    "        for img_file in os.listdir(emotion_path):\n",
    "            img_path = os.path.join(emotion_path, img_file)\n",
    "            if not is_image_valid(img_path):\n",
    "                corrupted_count += 1\n",
    "                continue\n",
    "            img = preprocess_image(img_path)\n",
    "            images.append(img)\n",
    "            labels.append(emotion)\n",
    "    return np.array(images), np.array(labels), corrupted_count\n",
    "\n",
    "X_train_full, y_train_full, corrupted_train = load_and_preprocess_data(TRAIN_DIR, SELECTED_CLASSES)\n",
    "X_test, y_test, corrupted_test = load_and_preprocess_data(TEST_DIR, SELECTED_CLASSES)\n",
    "\n",
    "print(f\"Training data shape: {X_train_full.shape}\")\n",
    "print(f\"Test data shape: {X_test.shape}\")\n",
    "print(f\"Corrupted train images removed: {corrupted_train}\")\n",
    "print(f\"Corrupted test images removed: {corrupted_test}\")\n",
    "\n",
    "# Applies global mean-std normalization using training set mean and std\n",
    "mean = np.mean(X_train_full)\n",
    "std = np.std(X_train_full)\n",
    "X_train_full = (X_train_full - mean) / std\n",
    "X_test = (X_test - mean) / std"
   ]
  },
  {
   "cell_type": "markdown",
   "id": "05d75a10-f31b-4aad-bc7a-c8dabc86cfdd",
   "metadata": {},
   "source": [
    "##  Train/Validation Split"
   ]
  },
  {
   "cell_type": "code",
   "execution_count": 13,
   "id": "6a1267b7-0107-4abd-bbb6-2bd8c764bd0b",
   "metadata": {},
   "outputs": [
    {
     "name": "stdout",
     "output_type": "stream",
     "text": [
      "X_train shape: (19331, 48, 48, 1)\n",
      "X_val shape: (4833, 48, 48, 1)\n",
      "\n",
      "Class weights for handling imbalance:\n",
      "angry: 1.21\n",
      "happy: 0.67\n",
      "sad: 1.00\n",
      "surprise: 1.52\n",
      "neutral: 0.97\n"
     ]
    }
   ],
   "source": [
    "# Splitting training set into training and validation subsets\n",
    "X_train, X_val, y_train, y_val = train_test_split(\n",
    "    X_train_full, y_train_full, test_size=0.2, stratify=y_train_full, random_state=42\n",
    ")\n",
    "\n",
    "print(f\"X_train shape: {X_train.shape}\")\n",
    "print(f\"X_val shape: {X_val.shape}\")\n",
    "\n",
    "# Convert string labels to numerical labels\n",
    "label_to_index = {emotion: idx for idx, emotion in enumerate(SELECTED_CLASSES)}\n",
    "index_to_label = {idx: emotion for emotion, idx in label_to_index.items()}\n",
    "\n",
    "# Convert string labels to numerical\n",
    "y_train_num = np.array([label_to_index[label] for label in y_train])\n",
    "y_val_num = np.array([label_to_index[label] for label in y_val])\n",
    "y_test_num = np.array([label_to_index[label] for label in y_test])\n",
    "\n",
    "# One-hot encode labels\n",
    "y_train_encoded = to_categorical(y_train_num, num_classes=NUM_CLASSES)\n",
    "y_val_encoded = to_categorical(y_val_num, num_classes=NUM_CLASSES)\n",
    "y_test_encoded = to_categorical(y_test_num, num_classes=NUM_CLASSES)\n",
    "\n",
    "# Calculate class weights for handling imbalance\n",
    "class_weights = class_weight.compute_class_weight(\n",
    "    'balanced',\n",
    "    classes=np.unique(y_train_num),\n",
    "    y=y_train_num\n",
    ")\n",
    "class_weights = dict(enumerate(class_weights))\n",
    "\n",
    "print(\"\\nClass weights for handling imbalance:\")\n",
    "for idx, weight in class_weights.items():\n",
    "    print(f\"{index_to_label[idx]}: {weight:.2f}\")"
   ]
  },
  {
   "cell_type": "markdown",
   "id": "6f7f8d3a-4eeb-4588-a646-63f75c1387d9",
   "metadata": {},
   "source": [
    "## Data Augmentation"
   ]
  },
  {
   "cell_type": "code",
   "execution_count": 16,
   "id": "19c204a0-7ad3-4b8e-a5fb-392ed0e642e5",
   "metadata": {},
   "outputs": [
    {
     "name": "stdout",
     "output_type": "stream",
     "text": [
      "\n",
      "Augmented training samples:\n"
     ]
    },
    {
     "data": {
      "image/png": "[encoded data removed]",
      "text/plain": [
       "<Figure size 1500x300 with 5 Axes>"
      ]
     },
     "metadata": {},
     "output_type": "display_data"
    }
   ],
   "source": [
    "# Create data augmentation generator\n",
    "train_datagen = ImageDataGenerator(\n",
    "    rotation_range=15,          # ±15 degrees\n",
    "    width_shift_range=0.1,      # ±10% horizontal shift\n",
    "    height_shift_range=0.1,     # ±10% vertical shift\n",
    "    brightness_range=[0.9, 1.1], # ±10% brightness\n",
    "    zoom_range=0.1,             # ±10% zoom\n",
    "    horizontal_flip=True,       # 50% chance (be careful with asymmetric emotions)\n",
    "    fill_mode='nearest'         # Fill missing pixels\n",
    ")\n",
    "\n",
    "# Validation/test generator (only normalization)\n",
    "test_datagen = ImageDataGenerator()\n",
    "\n",
    "# Create data generators\n",
    "train_generator = train_datagen.flow(\n",
    "    X_train,\n",
    "    y_train_encoded,\n",
    "    batch_size=BATCH_SIZE,\n",
    "    shuffle=True\n",
    ")\n",
    "\n",
    "validation_generator = test_datagen.flow(\n",
    "    X_test,\n",
    "    y_test_encoded,\n",
    "    batch_size=BATCH_SIZE,\n",
    "    shuffle=False\n",
    ")\n",
    "\n",
    "# Visualize augmented samples\n",
    "def plot_augmented_samples(generator, n_samples=5):\n",
    "    plt.figure(figsize=(15, 3))\n",
    "    for i in range(n_samples):\n",
    "        # Get a batch of augmented images\n",
    "        for X_batch, y_batch in generator:\n",
    "            # Convert grayscale to RGB for display\n",
    "            img = np.squeeze(X_batch[0])\n",
    "            label = index_to_label[np.argmax(y_batch[0])]\n",
    "            \n",
    "            plt.subplot(1, n_samples, i+1)\n",
    "            plt.imshow(img, cmap='gray')\n",
    "            plt.title(label)\n",
    "            plt.axis('off')\n",
    "            break  \n",
    "    plt.tight_layout()\n",
    "    plt.show()\n",
    "\n",
    "print(\"\\nAugmented training samples:\")\n",
    "plot_augmented_samples(train_generator)"
   ]
  },
  {
   "cell_type": "markdown",
   "id": "4fc0b228-e97f-4f0d-9358-70145fcbc38e",
   "metadata": {},
   "source": [
    "## Save Processed Data"
   ]
  },
  {
   "cell_type": "code",
   "execution_count": 17,
   "id": "c6a9774d-152f-4097-8e53-18c2d70eda78",
   "metadata": {},
   "outputs": [
    {
     "name": "stdout",
     "output_type": "stream",
     "text": [
      "✅ Preprocessing completed. Data saved as JPG files.\n"
     ]
    }
   ],
   "source": [
    "PROCESSED_DIR = Path(\"../../data/processed/FC211042_Heshani\")\n",
    "train_out, test_out = PROCESSED_DIR / \"train\", PROCESSED_DIR / \"test\"\n",
    "train_out.mkdir(parents=True, exist_ok=True)\n",
    "test_out.mkdir(parents=True, exist_ok=True)\n",
    "\n",
    "SAVE_IMAGES = not any(train_out.glob(\"*.jpg\")) or not any(test_out.glob(\"*.jpg\"))\n",
    "\n",
    "\n",
    "if SAVE_IMAGES:\n",
    "    def save_images(array, labels, root_dir):\n",
    "        for idx, (img, label_vec) in enumerate(zip(array, labels)):\n",
    "            class_name = index_to_label[int(np.argmax(label_vec))]\n",
    "            class_dir = root_dir / class_name\n",
    "            class_dir.mkdir(exist_ok=True)\n",
    "            img_uint8 = (img.squeeze() * 255).astype(\"uint8\")\n",
    "            file_path = class_dir / f\"{idx:06d}.jpg\"\n",
    "            if not file_path.exists():\n",
    "                cv2.imwrite(str(file_path), img_uint8)\n",
    "\n",
    "    save_images(X_train, y_train_encoded, train_out)\n",
    "    save_images(X_val, y_val_encoded, train_out)\n",
    "    save_images(X_test, y_test_encoded, test_out)\n",
    "    print(\"Preprocessing completed. Data saved as JPG files.\")\n",
    "else:\n",
    "    print(\"Preprocessed images already exist. Skipping saving step.\")"
   ]
  },
  {
   "cell_type": "code",
   "execution_count": 37,
   "id": "e9654d46-264c-475a-b09e-b80cf7595426",
   "metadata": {},
   "outputs": [
    {
     "name": "stdout",
     "output_type": "stream",
     "text": [
      "\n",
      "----Dataset Preprocessing Summary----\n",
      "\n",
      "Original train samples: 24176\n",
      "Original test samples: 6043\n",
      "Filtered total train samples: 24164\n",
      "Filtered total test samples: 6042\n",
      "\n",
      "Class-wise train counts after preprocessing + split:\n",
      "Counter({'happy': 5771, 'neutral': 3970, 'sad': 3863, 'angry': 3191, 'surprise': 2536})\n",
      "Class-wise validation counts:\n",
      "Counter({'happy': 1443, 'neutral': 993, 'sad': 966, 'angry': 797, 'surprise': 634})\n",
      "Class-wise test counts:\n",
      "Counter({'happy': 1774, 'sad': 1247, 'neutral': 1233, 'angry': 957, 'surprise': 831})\n",
      "\n",
      "Removed corrupted/low-quality train images: 12\n",
      "Removed corrupted/low-quality test images: 1\n",
      "\n",
      "Processed data saved in: ../../data/processed/FC211042_Heshani\n"
     ]
    }
   ],
   "source": [
    "# Calculate class counts after preprocessing\n",
    "def count_classes_from_labels(labels_array):\n",
    "    return Counter(labels_array)\n",
    "\n",
    "train_class_counts_post = count_classes_from_labels(y_train)\n",
    "val_class_counts_post = count_classes_from_labels(y_val)\n",
    "test_class_counts_post = count_classes_from_labels(y_test)\n",
    "\n",
    "print(\"\\n----Dataset Preprocessing Summary----\")\n",
    "print(f\"\\nOriginal train samples: {sum(train_counts_raw.values())}\")\n",
    "print(f\"Original test samples: {sum(test_counts_raw.values())}\")\n",
    "\n",
    "print(f\"Filtered total train samples: {X_train_full.shape[0]}\")\n",
    "print(f\"Filtered total test samples: {X_test.shape[0]}\")\n",
    "\n",
    "print(\"\\nClass-wise train counts after preprocessing + split:\")\n",
    "print(train_class_counts_post)\n",
    "print(\"Class-wise validation counts:\")\n",
    "print(val_class_counts_post)\n",
    "print(\"Class-wise test counts:\")\n",
    "print(test_class_counts_post)\n",
    "\n",
    "print(f\"\\nRemoved corrupted/low-quality train images: {corrupted_train}\")\n",
    "print(f\"Removed corrupted/low-quality test images: {corrupted_test}\")\n",
    "print(f\"\\nProcessed data saved in: {PROCESSED_DIR}\")\n"
   ]
  }
 ],
 "metadata": {
  "kernelspec": {
   "display_name": "Python 3 (ipykernel)",
   "language": "python",
   "name": "python3"
  },
  "language_info": {
   "codemirror_mode": {
    "name": "ipython",
    "version": 3
   },
   "file_extension": ".py",
   "mimetype": "text/x-python",
   "name": "python",
   "nbconvert_exporter": "python",
   "pygments_lexer": "ipython3",
   "version": "3.9.23"
  }
 },
 "nbformat": 4,
 "nbformat_minor": 5
}
