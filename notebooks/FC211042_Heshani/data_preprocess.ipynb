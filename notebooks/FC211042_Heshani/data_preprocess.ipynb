{
 "cells": [
  {
   "cell_type": "markdown",
   "id": "1b19a7a5-9a70-409c-bdb8-02fafbb11526",
   "metadata": {},
   "source": [
    "# FER2013 preprocessing for MobileNetV2(GrayScale  48x48)"
   ]
  },
  {
   "cell_type": "code",
   "execution_count": 1,
   "id": "f68db838-d33b-4727-a225-a9994cb7c1ab",
   "metadata": {
    "jp-MarkdownHeadingCollapsed": true
   },
   "outputs": [
    {
     "name": "stderr",
     "output_type": "stream",
     "text": [
      "2025-07-13 20:38:33.612486: I tensorflow/core/util/port.cc:110] oneDNN custom operations are on. You may see slightly different numerical results due to floating-point round-off errors from different computation orders. To turn them off, set the environment variable `TF_ENABLE_ONEDNN_OPTS=0`.\n",
      "2025-07-13 20:38:33.623156: I tensorflow/tsl/cuda/cudart_stub.cc:28] Could not find cuda drivers on your machine, GPU will not be used.\n",
      "2025-07-13 20:38:33.779358: I tensorflow/tsl/cuda/cudart_stub.cc:28] Could not find cuda drivers on your machine, GPU will not be used.\n",
      "2025-07-13 20:38:33.784830: I tensorflow/core/platform/cpu_feature_guard.cc:182] This TensorFlow binary is optimized to use available CPU instructions in performance-critical operations.\n",
      "To enable the following instructions: AVX2 AVX_VNNI FMA, in other operations, rebuild TensorFlow with the appropriate compiler flags.\n",
      "2025-07-13 20:38:36.150031: W tensorflow/compiler/tf2tensorrt/utils/py_utils.cc:38] TF-TRT Warning: Could not find TensorRT\n"
     ]
    },
    {
     "name": "stdout",
     "output_type": "stream",
     "text": [
      "TensorFlow Version: 2.13.0\n",
      "OpenCV Version: 4.8.0\n"
     ]
    }
   ],
   "source": [
    "# imports with aliases\n",
    "import os\n",
    "import numpy as np\n",
    "import pandas as pd\n",
    "import matplotlib.pyplot as plt\n",
    "import seaborn as sns\n",
    "import cv2\n",
    "from PIL import Image\n",
    "from pathlib import Path\n",
    "\n",
    "# from sklearn.model_selection import train_test_split\n",
    "from sklearn.utils import class_weight\n",
    "\n",
    "# TensorFlow imports\n",
    "import tensorflow as tf\n",
    "from tensorflow.keras.preprocessing.image import ImageDataGenerator\n",
    "from tensorflow.keras.utils import to_categorical\n",
    "\n",
    "# Configuration\n",
    "plt.style.use('ggplot')\n",
    "%matplotlib inline\n",
    "\n",
    "# Set random seeds for reproducibility\n",
    "np.random.seed(42)\n",
    "tf.random.set_seed(42)\n",
    "\n",
    "# Print versions\n",
    "print(f\"TensorFlow Version: {tf.__version__}\")\n",
    "print(f\"OpenCV Version: {cv2.__version__}\")\n",
    "\n",
    "# Define constants\n",
    "IMG_SIZE = (48, 48)\n",
    "BATCH_SIZE = 64\n",
    "INPUT_SHAPE = (*IMG_SIZE, 1)  # Grayscale single channel\n"
   ]
  },
  {
   "cell_type": "code",
   "execution_count": 2,
   "id": "29bb8792-dfc0-4247-8e5e-b8657899dd75",
   "metadata": {
    "editable": true,
    "slideshow": {
     "slide_type": ""
    },
    "tags": []
   },
   "outputs": [
    {
     "name": "stdout",
     "output_type": "stream",
     "text": [
      "Selected classes: ['angry', 'happy', 'sad', 'surprise', 'neutral']\n",
      "Input shape: (48, 48, 1)\n"
     ]
    }
   ],
   "source": [
    "# Define base directory and paths\n",
    "BASE_DIR = '../../data/raw/fer2013/'\n",
    "TRAIN_DIR = os.path.join(BASE_DIR, 'train')\n",
    "TEST_DIR = os.path.join(BASE_DIR, 'test')\n",
    "\n",
    "#Update the classes\n",
    "SELECTED_CLASSES = [\"angry\", \"happy\", \"sad\", \"surprise\", \"neutral\"]\n",
    "NUM_CLASSES = len(SELECTED_CLASSES)\n",
    "\n",
    "print(f\"Selected classes: {SELECTED_CLASSES}\")\n",
    "print(f\"Input shape: {INPUT_SHAPE}\")\n",
    "\n",
    "# CLASS_NAMES = sorted(list(set(EMOTION_MAP.values())))\n",
    "# NUM_CLASSES = len(CLASS_NAMES)\n",
    "\n",
    "# print(f\"Classes after merging: {CLASS_NAMES}\")\n",
    "# print(f\"Number of classes: {NUM_CLASSES}\")"
   ]
  },
  {
   "cell_type": "code",
   "execution_count": 4,
   "id": "ab194211-b7f6-4e17-bfd9-a5d4e3ce271f",
   "metadata": {},
   "outputs": [
    {
     "name": "stdout",
     "output_type": "stream",
     "text": [
      "Training data shape: (24176, 48, 48, 1)\n",
      "Test data shape: (6043, 48, 48, 1)\n"
     ]
    }
   ],
   "source": [
    "def preprocess_image(img_path):\n",
    "    \"\"\"\n",
    "    Basic preprocessing for FER2013 images:\n",
    "    - Load as grayscale\n",
    "    - Normalize to [0, 1]\n",
    "    - Add channel dimension\n",
    "    \"\"\"\n",
    "    # Load image (already grayscale 48x48)\n",
    "    img = cv2.imread(img_path, cv2.IMREAD_GRAYSCALE)\n",
    "    \n",
    "    # Normalize to [0, 1]\n",
    "    img_normalized = img.astype(np.float32) / 255.0\n",
    "    \n",
    "    # Add channel dimension for CNN: (48, 48) → (48, 48, 1)\n",
    "    img_final = np.expand_dims(img_normalized, axis=-1)\n",
    "    \n",
    "    return img_final\n",
    "\n",
    "def load_and_preprocess_data(directory, valid_classes):\n",
    "    \"\"\"\n",
    "    Load images and labels from directory, apply preprocessing\n",
    "    \"\"\"\n",
    "    images = []\n",
    "    labels = []\n",
    "    \n",
    "    for emotion in os.listdir(directory):\n",
    "        if emotion not in valid_classes:\n",
    "            continue\n",
    "        emotion_path = os.path.join(directory, emotion)\n",
    "        for img_file in os.listdir(emotion_path):\n",
    "            img_path = os.path.join(emotion_path, img_file)\n",
    "            img = preprocess_image(img_path)\n",
    "            images.append(img)\n",
    "            labels.append(emotion)\n",
    "    return np.array(images), np.array(labels)\n",
    "\n",
    "X_train, y_train = load_and_preprocess_data(TRAIN_DIR, SELECTED_CLASSES)\n",
    "X_test, y_test = load_and_preprocess_data(TEST_DIR, SELECTED_CLASSES)\n",
    "\n",
    "print(f\"Training data shape: {X_train.shape}\")\n",
    "print(f\"Test data shape: {X_test.shape}\")"
   ]
  },
  {
   "cell_type": "code",
   "execution_count": 5,
   "id": "6a1267b7-0107-4abd-bbb6-2bd8c764bd0b",
   "metadata": {},
   "outputs": [
    {
     "name": "stdout",
     "output_type": "stream",
     "text": [
      "\n",
      "Class weights for handling imbalance:\n",
      "angry: 1.21\n",
      "happy: 0.67\n",
      "sad: 1.00\n",
      "surprise: 1.52\n",
      "neutral: 0.97\n"
     ]
    }
   ],
   "source": [
    "# Convert string labels to numerical labels\n",
    "label_to_index = {emotion: idx for idx, emotion in enumerate(SELECTED_CLASSES)}\n",
    "index_to_label = {idx: emotion for emotion, idx in label_to_index.items()}\n",
    "\n",
    "# Convert string labels to numerical\n",
    "y_train_num = np.array([label_to_index[label] for label in y_train])\n",
    "y_test_num = np.array([label_to_index[label] for label in y_test])\n",
    "\n",
    "# One-hot encode labels\n",
    "y_train_encoded = to_categorical(y_train_num, num_classes=NUM_CLASSES)\n",
    "y_test_encoded = to_categorical(y_test_num, num_classes=NUM_CLASSES)\n",
    "\n",
    "# Calculate class weights for handling imbalance\n",
    "class_weights = class_weight.compute_class_weight(\n",
    "    'balanced',\n",
    "    classes=np.unique(y_train_num),\n",
    "    y=y_train_num\n",
    ")\n",
    "class_weights = dict(enumerate(class_weights))\n",
    "\n",
    "print(\"\\nClass weights for handling imbalance:\")\n",
    "for idx, weight in class_weights.items():\n",
    "    print(f\"{index_to_label[idx]}: {weight:.2f}\")"
   ]
  },
  {
   "cell_type": "code",
   "execution_count": 6,
   "id": "19c204a0-7ad3-4b8e-a5fb-392ed0e642e5",
   "metadata": {},
   "outputs": [
    {
     "name": "stdout",
     "output_type": "stream",
     "text": [
      "\n",
      "Augmented training samples:\n"
     ]
    },
    {
     "data": {
      "image/png": "[encoded data removed]",
      "text/plain": [
       "<Figure size 1500x300 with 5 Axes>"
      ]
     },
     "metadata": {},
     "output_type": "display_data"
    }
   ],
   "source": [
    "# Create data augmentation generator\n",
    "train_datagen = ImageDataGenerator(\n",
    "    rotation_range=15,          # ±15 degrees\n",
    "    width_shift_range=0.1,      # ±10% horizontal shift\n",
    "    height_shift_range=0.1,     # ±10% vertical shift\n",
    "    brightness_range=[0.9, 1.1], # ±10% brightness\n",
    "    zoom_range=0.1,             # ±10% zoom\n",
    "    horizontal_flip=True,       # 50% chance (be careful with asymmetric emotions)\n",
    "    fill_mode='nearest'         # Fill missing pixels\n",
    ")\n",
    "\n",
    "# Validation/test generator (only normalization)\n",
    "test_datagen = ImageDataGenerator()\n",
    "\n",
    "# Create data generators\n",
    "train_generator = train_datagen.flow(\n",
    "    X_train,\n",
    "    y_train_encoded,\n",
    "    batch_size=BATCH_SIZE,\n",
    "    shuffle=True\n",
    ")\n",
    "\n",
    "validation_generator = test_datagen.flow(\n",
    "    X_test,\n",
    "    y_test_encoded,\n",
    "    batch_size=BATCH_SIZE,\n",
    "    shuffle=False\n",
    ")\n",
    "\n",
    "# Visualize augmented samples\n",
    "def plot_augmented_samples(generator, n_samples=5):\n",
    "    plt.figure(figsize=(15, 3))\n",
    "    for i in range(n_samples):\n",
    "        # Get a batch of augmented images\n",
    "        for X_batch, y_batch in generator:\n",
    "            # Convert grayscale to RGB for display\n",
    "            img = np.squeeze(X_batch[0])\n",
    "            label = index_to_label[np.argmax(y_batch[0])]\n",
    "            \n",
    "            plt.subplot(1, n_samples, i+1)\n",
    "            plt.imshow(img, cmap='gray')\n",
    "            plt.title(label)\n",
    "            plt.axis('off')\n",
    "            break  \n",
    "    plt.tight_layout()\n",
    "    plt.show()\n",
    "\n",
    "print(\"\\nAugmented training samples:\")\n",
    "plot_augmented_samples(train_generator)"
   ]
  },
  {
   "cell_type": "code",
   "execution_count": 7,
   "id": "6279c057-d17c-4d7d-a30f-9eb9fe240010",
   "metadata": {},
   "outputs": [
    {
     "name": "stdout",
     "output_type": "stream",
     "text": [
      "Preprocessed data saved successfully!\n"
     ]
    }
   ],
   "source": [
    "# Create directory for processed data\n",
    "PROCESSED_DIR = '../../data/processed/FC211042_Heshani'\n",
    "os.makedirs(PROCESSED_DIR, exist_ok=True)\n",
    "\n",
    "# make sure X_train, y_train_encoded, index_to_label already exist\n",
    "train_out = Path(PROCESSED_DIR) / \"train\"\n",
    "test_out  = Path(PROCESSED_DIR) / \"test\"\n",
    "train_out.mkdir(parents=True, exist_ok=True)\n",
    "test_out.mkdir(parents=True,  exist_ok=True)\n",
    "\n",
    "def save_images(array, labels, root_dir):\n",
    "    for idx, (img, label_vec) in enumerate(zip(array, labels)):\n",
    "        class_name = index_to_label[int(np.argmax(label_vec))]\n",
    "        class_dir  = root_dir / class_name\n",
    "        class_dir.mkdir(exist_ok=True)\n",
    "        img_uint8  = (img.squeeze() * 255).astype(\"uint8\")      # back to 0‑255\n",
    "        file_path  = class_dir / f\"{idx:06d}.jpg\"\n",
    "        cv2.imwrite(str(file_path), img_uint8)\n",
    "\n",
    "# save train and test sets\n",
    "save_images(X_train, y_train_encoded, train_out)\n",
    "save_images(X_test,  y_test_encoded,  test_out)\n",
    "\n",
    "print(\"Preprocessed data saved successfully!\")"
   ]
  },
  {
   "cell_type": "code",
   "execution_count": null,
   "id": "5e4bcbb8-8a71-45ea-b3f3-494ed09665fa",
   "metadata": {
    "editable": true,
    "slideshow": {
     "slide_type": ""
    },
    "tags": []
   },
   "outputs": [],
   "source": []
  }
 ],
 "metadata": {
  "kernelspec": {
   "display_name": "Python 3 (ipykernel)",
   "language": "python",
   "name": "python3"
  },
  "language_info": {
   "codemirror_mode": {
    "name": "ipython",
    "version": 3
   },
   "file_extension": ".py",
   "mimetype": "text/x-python",
   "name": "python",
   "nbconvert_exporter": "python",
   "pygments_lexer": "ipython3",
   "version": "3.9.23"
  }
 },
 "nbformat": 4,
 "nbformat_minor": 5
}
