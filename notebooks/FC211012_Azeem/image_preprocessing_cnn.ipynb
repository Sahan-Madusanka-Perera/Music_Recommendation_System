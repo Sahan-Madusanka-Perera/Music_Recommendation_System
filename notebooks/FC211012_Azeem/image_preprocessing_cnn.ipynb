{
 "cells": [
  {
   "cell_type": "code",
   "execution_count": null,
   "id": "545c76d1",
   "metadata": {},
   "outputs": [],
   "source": [
    "import os\n",
    "import cv2\n",
    "import numpy as np\n",
    "from sklearn.ensemble import RandomForestClassifier\n",
    "from sklearn.model_selection import train_test_split\n",
    "from sklearn.metrics import classification_report\n",
    "from sklearn.preprocessing import LabelEncoder\n",
    "from tqdm import tqdm\n",
    "\n",
    "\n",
    "def load_images_from_folder(folder, size=(48, 48)):\n",
    "    X = []\n",
    "    y = []\n",
    "    for emotion_label in os.listdir(folder):\n",
    "        emotion_path = os.path.join(folder, emotion_label)\n",
    "        if not os.path.isdir(emotion_path):\n",
    "            continue\n",
    "        for img_file in os.listdir(emotion_path):\n",
    "            img_path = os.path.join(emotion_path, img_file)\n",
    "            img = cv2.imread(img_path, cv2.IMREAD_GRAYSCALE)\n",
    "            if img is not None:\n",
    "                img = cv2.resize(img, size)\n",
    "                X.append(img.flatten())   # Flatten to 1D array\n",
    "                y.append(emotion_label)\n",
    "    return np.array(X), np.array(y)\n",
    "\n",
    "\n",
    "# Load train and test data\n",
    "X_train, y_train = load_images_from_folder(\"../../data/raw/fer2013/train\")\n",
    "X_test, y_test = load_images_from_folder(\"../../data/raw/fer2013/test\")\n",
    "\n",
    "# Encode labels\n",
    "le = LabelEncoder()\n",
    "y_train_encoded = le.fit_transform(y_train)\n",
    "y_test_encoded = le.transform(y_test)\n",
    "\n",
    "# Train classifier\n",
    "clf = RandomForestClassifier(n_estimators=100)\n",
    "clf.fit(X_train, y_train_encoded)\n",
    "\n",
    "# Evaluate\n",
    "y_pred = clf.predict(X_test)\n",
    "print(classification_report(y_test_encoded, y_pred, target_names=le.classes_))"
   ]
  }
 ],
 "metadata": {
  "kernelspec": {
   "display_name": "venv",
   "language": "python",
   "name": "python3"
  },
  "language_info": {
   "codemirror_mode": {
    "name": "ipython",
    "version": 3
   },
   "file_extension": ".py",
   "mimetype": "text/x-python",
   "name": "python",
   "nbconvert_exporter": "python",
   "pygments_lexer": "ipython3",
   "version": "3.13.3"
  }
 },
 "nbformat": 4,
 "nbformat_minor": 5
}
