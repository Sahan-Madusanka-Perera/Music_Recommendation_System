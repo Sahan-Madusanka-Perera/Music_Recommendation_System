{
 "cells": [
  {
   "cell_type": "markdown",
   "id": "79d334b6-e810-4423-94c1-1308ad589554",
   "metadata": {},
   "source": [
    "              Data Preprocessing\r\n",
    "\r\n",
    "        Model: EfficientNet B0 \r\n",
    "\r\n",
    "        Already Done\r\n",
    "            -Images are already 48x48 pixels\r\n",
    "            -Images are already grayscale\r\n",
    "            -Face detection already applied (FER2013 is pre-cropped)\r\n",
    "\r\n",
    "\r\n",
    "            \r\n",
    "        Steps\r\n",
    "        -01]Load raw FER2013 data\r\n",
    "        -02]Map original class → project class\r\n",
    "        -03]Preprocess images (resize, normalize, RGB)\r\n",
    "        -04]Save processed images\r\n",
    "        -05]Apply data augmentation\r\n",
    "        -06]Organize all images by mapped class\r\n",
    "\r\n",
    "        \r\n",
    "    \r\n",
    "        \r\n",
    "       \r\n",
    "\r\n",
    "        Total corrupted files found: 0"
   ]
  },
  {
   "cell_type": "code",
   "execution_count": 1,
   "id": "ab74f943-d90c-407a-a370-058e3a2d8eb7",
   "metadata": {},
   "outputs": [],
   "source": [
    "import os\n",
    "import cv2\n",
    "import numpy as np\n",
    "import random\n",
    "from pathlib import Path\n"
   ]
  },
  {
   "cell_type": "code",
   "execution_count": 2,
   "id": "655a1393-f89d-4abd-af0f-02cec5871b20",
   "metadata": {},
   "outputs": [],
   "source": [
    "#set paths\n",
    "RAW_DIR = Path(\"/app/data/raw/fer2013\")\n",
    "PROCESSED_DIR = Path(\"/app/data/processed/FC211002_Nethmi\")\n",
    "PROCESSED_DIR.mkdir(parents=True, exist_ok=True)\n"
   ]
  },
  {
   "cell_type": "code",
   "execution_count": 3,
   "id": "8dd5bd24-d91f-4db4-adb9-d0068e03c601",
   "metadata": {},
   "outputs": [],
   "source": [
    "## Mapping FER2013 classes to 5 project classes\n",
    "CLASS_MAPPING = {\n",
    "    'angry': 'angry',\n",
    "    'disgust': 'angry',\n",
    "    'fear': 'stressed',\n",
    "    'surprise': 'stressed',\n",
    "    'happy': 'happy',\n",
    "    'neutral': 'neutral',\n",
    "    'sad': 'sad'\n",
    "}\n",
    "TARGET_CLASSES = ['angry', 'happy', 'sad', 'stressed', 'neutral']"
   ]
  },
  {
   "cell_type": "code",
   "execution_count": 4,
   "id": "233d2d4c-23b6-4d69-a5a7-9d98eee9537d",
   "metadata": {},
   "outputs": [],
   "source": [
    "# Image Preprocessing \n",
    "\n",
    "def preprocess_image(img_path):\n",
    "    img = cv2.imread(str(img_path), cv2.IMREAD_GRAYSCALE)\n",
    "    if img is None or img.shape != (48, 48):   #Check that the image is of shape (48, 48), else skip.\n",
    "        return None\n",
    "    #img = cv2.resize(img, (224, 224))   # Resize\n",
    "    \n",
    "    img_rgb = cv2.cvtColor(img, cv2.COLOR_GRAY2RGB)            # Convert to RGB\n",
    "    img_rgb = img_rgb.astype(np.float32) / 255.0               # Normalize to [0, 1]\n",
    "    return img_rgb"
   ]
  },
  {
   "cell_type": "code",
   "execution_count": 5,
   "id": "50b3dc04-cd78-4b5f-a091-6a6378e06a42",
   "metadata": {},
   "outputs": [],
   "source": [
    "# Data Augmentation\n",
    "\n",
    "def augment_image(img):\n",
    "    rows, cols, _ = img.shape     # Get image dimensions\n",
    "\n",
    "    # ---------------------- Rotation ----------------------\n",
    "    # Randomly rotate the image between -15 and 15 degrees\n",
    "    angle = random.uniform(-15, 15)\n",
    "    angle = random.uniform(-15, 15)\n",
    "    M = cv2.getRotationMatrix2D((cols / 2, rows / 2), angle, 1)\n",
    "    img = cv2.warpAffine(img, M, (cols, rows), borderMode=cv2.BORDER_REFLECT)\n",
    "\n",
    "    # ---------------------- Brightness Adjustment ----------------------\n",
    "    # Randomly adjust brightness by multiplying pixel values by a factor between 0.9 and 1.1\n",
    "    factor = random.uniform(0.9, 1.1)\n",
    "    img = np.clip(img * factor, 0, 1)\n",
    "\n",
    "    # ---------------------- Zoom In/Out ----------------------\n",
    "    # Randomly zoom in or out by resizing the image to a smaller or larger size and then cropping/resizing\n",
    "    zoom_factor = random.uniform(0.95, 1.05)\n",
    "    new_w = int(cols / zoom_factor)\n",
    "    new_h = int(rows / zoom_factor)\n",
    "\n",
    "    # Calculate top-left corner for center cropping\n",
    "    x1 = max((cols - new_w) // 2, 0)\n",
    "    y1 = max((rows - new_h) // 2, 0)\n",
    "    cropped = img[y1:y1+new_h, x1:x1+new_w] # Crop the zoomed image\n",
    "    img = cv2.resize(cropped, (48, 48))\n",
    "\n",
    "\n",
    "    # ---------------------- Horizontal Flip ----------------------\n",
    "    # Randomly flip image horizontally (50% chance)\n",
    "    if random.random() > 0.5:\n",
    "        img = cv2.flip(img, 1)\n",
    "\n",
    "    return img"
   ]
  },
  {
   "cell_type": "code",
   "execution_count": 6,
   "id": "60912362-fc2e-4367-9f15-f25556598411",
   "metadata": {},
   "outputs": [],
   "source": [
    "def process_split(split, augment=False, augment_count=3):\n",
    "    print(f\"\\n Processing split: '{split}'\")\n",
    "\n",
    "    # Define input and output directories\n",
    "    input_dir = RAW_DIR / split\n",
    "    output_dir = PROCESSED_DIR / split\n",
    "    \n",
    "    total_images = 0\n",
    "    saved_images = 0\n",
    "    skipped_images = 0\n",
    "\n",
    "    # Loop through each original class in the input directory\n",
    "    for orig_class in os.listdir(input_dir):\n",
    "        orig_path = input_dir / orig_class\n",
    "        if not orig_path.is_dir():  # Skip if it's not a directory\n",
    "            continue\n",
    "\n",
    "        mapped_class = CLASS_MAPPING.get(orig_class) # Get the mapped class using the class mapping dictionary\n",
    "        if mapped_class not in TARGET_CLASSES:\n",
    "            print(f\" Skipping class '{orig_class}' — not in mapping\")\n",
    "            continue\n",
    "\n",
    "        out_class_dir = output_dir / mapped_class  # Create output directory for the mapped class\n",
    "        out_class_dir.mkdir(parents=True, exist_ok=True)\n",
    "        \n",
    "        image_files = os.listdir(orig_path)# List all image files in the original class directory\n",
    "\n",
    "        print(f\" Class '{orig_class}' → '{mapped_class}': {len(image_files)} images\")\n",
    "\n",
    "        # Process each image file\n",
    "\n",
    "        for img_name in tqdm(image_files, desc=f\"{orig_class} → {mapped_class}\"):\n",
    "            total_images += 1\n",
    "            img_path = orig_path / img_name\n",
    "            img = preprocess_image(img_path) # Preprocess the image (resize, convert, normalize)\n",
    "\n",
    "            # Skip if image is invalid or corrupt\n",
    "            if img is None:\n",
    "                print(f\" Skipped '{img_name}' — corrupt or invalid format\")\n",
    "                skipped_images += 1\n",
    "                continue\n",
    "\n",
    "            save_name = Path(img_name).stem + \".png\"\n",
    "            save_path = out_class_dir / save_name\n",
    "            cv2.imwrite(str(save_path), (img * 255).astype(np.uint8))\n",
    "            saved_images += 1\n",
    "\n",
    "            # If augmentation is enabled, create and save augmented versions\n",
    "            if augment:\n",
    "                for i in range(augment_count):\n",
    "                    aug_img = augment_image(img.copy())\n",
    "                    aug_name = Path(img_name).stem + f\"_aug{i}.png\"\n",
    "                    aug_path = out_class_dir / aug_name\n",
    "                    cv2.imwrite(str(aug_path), (aug_img * 255).astype(np.uint8))\n",
    "                    saved_images += 1\n",
    "\n",
    "    # Print a summary of processing for the split\n",
    "    print(f\"\\n    Finished split: '{split}'\")\n",
    "    print(f\"   ➤ Total images found     : {total_images}\")\n",
    "    print(f\"   ➤ Successfully processed : {saved_images}\")\n",
    "    print(f\"   ➤ Skipped (corrupt/etc)  : {skipped_images}\")\n"
   ]
  },
  {
   "cell_type": "code",
   "execution_count": 7,
   "id": "3a3c6ddf-658a-4749-a38b-5995fc38499f",
   "metadata": {},
   "outputs": [
    {
     "name": "stdout",
     "output_type": "stream",
     "text": [
      "Requirement already satisfied: tqdm in /usr/local/lib/python3.9/site-packages (4.67.1)\n",
      "\u001b[33mWARNING: Running pip as the 'root' user can result in broken permissions and conflicting behaviour with the system package manager. It is recommended to use a virtual environment instead: https://pip.pypa.io/warnings/venv\u001b[0m\u001b[33m\n",
      "\u001b[0m\n",
      "\u001b[1m[\u001b[0m\u001b[34;49mnotice\u001b[0m\u001b[1;39;49m]\u001b[0m\u001b[39;49m A new release of pip is available: \u001b[0m\u001b[31;49m23.0.1\u001b[0m\u001b[39;49m -> \u001b[0m\u001b[32;49m25.1.1\u001b[0m\n",
      "\u001b[1m[\u001b[0m\u001b[34;49mnotice\u001b[0m\u001b[1;39;49m]\u001b[0m\u001b[39;49m To update, run: \u001b[0m\u001b[32;49mpip install --upgrade pip\u001b[0m\n"
     ]
    }
   ],
   "source": [
    "!pip install tqdm"
   ]
  },
  {
   "cell_type": "code",
   "execution_count": 8,
   "id": "4766fc58-df95-4e58-848d-7074754d3a40",
   "metadata": {},
   "outputs": [
    {
     "name": "stdout",
     "output_type": "stream",
     "text": [
      " Starting FER2013 preprocessing for EfficientNetB0...\n",
      "\n",
      "\n",
      " Processing split: 'train'\n",
      " Class 'angry' → 'angry': 3995 images\n"
     ]
    },
    {
     "name": "stderr",
     "output_type": "stream",
     "text": [
      "angry → angry: 100%|██████████| 3995/3995 [07:50<00:00,  8.49it/s]\n"
     ]
    },
    {
     "name": "stdout",
     "output_type": "stream",
     "text": [
      " Class 'disgust' → 'angry': 436 images\n"
     ]
    },
    {
     "name": "stderr",
     "output_type": "stream",
     "text": [
      "disgust → angry: 100%|██████████| 436/436 [00:59<00:00,  7.35it/s]\n"
     ]
    },
    {
     "name": "stdout",
     "output_type": "stream",
     "text": [
      " Class 'fear' → 'stressed': 4097 images\n"
     ]
    },
    {
     "name": "stderr",
     "output_type": "stream",
     "text": [
      "fear → stressed: 100%|██████████| 4097/4097 [08:12<00:00,  8.32it/s]\n"
     ]
    },
    {
     "name": "stdout",
     "output_type": "stream",
     "text": [
      " Class 'happy' → 'happy': 7215 images\n"
     ]
    },
    {
     "name": "stderr",
     "output_type": "stream",
     "text": [
      "happy → happy: 100%|██████████| 7215/7215 [14:31<00:00,  8.28it/s]\n"
     ]
    },
    {
     "name": "stdout",
     "output_type": "stream",
     "text": [
      " Class 'neutral' → 'neutral': 4965 images\n"
     ]
    },
    {
     "name": "stderr",
     "output_type": "stream",
     "text": [
      "neutral → neutral: 100%|██████████| 4965/4965 [09:23<00:00,  8.81it/s]\n"
     ]
    },
    {
     "name": "stdout",
     "output_type": "stream",
     "text": [
      " Class 'sad' → 'sad': 4830 images\n"
     ]
    },
    {
     "name": "stderr",
     "output_type": "stream",
     "text": [
      "sad → sad: 100%|██████████| 4830/4830 [09:51<00:00,  8.17it/s]\n"
     ]
    },
    {
     "name": "stdout",
     "output_type": "stream",
     "text": [
      " Class 'surprise' → 'stressed': 3171 images\n"
     ]
    },
    {
     "name": "stderr",
     "output_type": "stream",
     "text": [
      "surprise → stressed: 100%|██████████| 3171/3171 [06:53<00:00,  7.68it/s]\n"
     ]
    },
    {
     "name": "stdout",
     "output_type": "stream",
     "text": [
      "\n",
      "    Finished split: 'train'\n",
      "   ➤ Total images found     : 28709\n",
      "   ➤ Successfully processed : 114836\n",
      "   ➤ Skipped (corrupt/etc)  : 0\n",
      "\n",
      " Processing split: 'test'\n",
      " Class 'angry' → 'angry': 958 images\n"
     ]
    },
    {
     "name": "stderr",
     "output_type": "stream",
     "text": [
      "angry → angry: 100%|██████████| 958/958 [00:56<00:00, 17.07it/s]\n"
     ]
    },
    {
     "name": "stdout",
     "output_type": "stream",
     "text": [
      " Class 'disgust' → 'angry': 111 images\n"
     ]
    },
    {
     "name": "stderr",
     "output_type": "stream",
     "text": [
      "disgust → angry: 100%|██████████| 111/111 [00:05<00:00, 18.52it/s]\n"
     ]
    },
    {
     "name": "stdout",
     "output_type": "stream",
     "text": [
      " Class 'fear' → 'stressed': 1024 images\n"
     ]
    },
    {
     "name": "stderr",
     "output_type": "stream",
     "text": [
      "fear → stressed: 100%|██████████| 1024/1024 [00:59<00:00, 17.29it/s]\n"
     ]
    },
    {
     "name": "stdout",
     "output_type": "stream",
     "text": [
      " Class 'happy' → 'happy': 1774 images\n"
     ]
    },
    {
     "name": "stderr",
     "output_type": "stream",
     "text": [
      "happy → happy: 100%|██████████| 1774/1774 [01:47<00:00, 16.54it/s]\n"
     ]
    },
    {
     "name": "stdout",
     "output_type": "stream",
     "text": [
      " Class 'neutral' → 'neutral': 1233 images\n"
     ]
    },
    {
     "name": "stderr",
     "output_type": "stream",
     "text": [
      "neutral → neutral: 100%|██████████| 1233/1233 [01:08<00:00, 18.13it/s]\n"
     ]
    },
    {
     "name": "stdout",
     "output_type": "stream",
     "text": [
      " Class 'sad' → 'sad': 1247 images\n"
     ]
    },
    {
     "name": "stderr",
     "output_type": "stream",
     "text": [
      "sad → sad: 100%|██████████| 1247/1247 [01:08<00:00, 18.28it/s]\n"
     ]
    },
    {
     "name": "stdout",
     "output_type": "stream",
     "text": [
      " Class 'surprise' → 'stressed': 831 images\n"
     ]
    },
    {
     "name": "stderr",
     "output_type": "stream",
     "text": [
      "surprise → stressed: 100%|██████████| 831/831 [00:53<00:00, 15.56it/s]"
     ]
    },
    {
     "name": "stdout",
     "output_type": "stream",
     "text": [
      "\n",
      "    Finished split: 'test'\n",
      "   ➤ Total images found     : 7178\n",
      "   ➤ Successfully processed : 7178\n",
      "   ➤ Skipped (corrupt/etc)  : 0\n",
      "\n",
      " All preprocessing complete.\n",
      "Processed data saved at: /app/data/processed/FC211002_Nethmi\n"
     ]
    },
    {
     "name": "stderr",
     "output_type": "stream",
     "text": [
      "\n"
     ]
    }
   ],
   "source": [
    "# Run Script\n",
    "from tqdm import tqdm \n",
    "if __name__ == \"__main__\":\n",
    "    print(\" Starting FER2013 preprocessing for EfficientNetB0...\\n\")\n",
    "\n",
    "    process_split(\"train\", augment=True, augment_count=3)\n",
    "    process_split(\"test\", augment=False)\n",
    "\n",
    "    print(f\"\\n All preprocessing complete.\")\n",
    "    print(f\"Processed data saved at: {PROCESSED_DIR}\")"
   ]
  },
  {
   "cell_type": "code",
   "execution_count": null,
   "id": "e0f4a104-225b-452f-a012-0d9a8138d56d",
   "metadata": {},
   "outputs": [],
   "source": []
  }
 ],
 "metadata": {
  "kernelspec": {
   "display_name": "Python 3 (ipykernel)",
   "language": "python",
   "name": "python3"
  },
  "language_info": {
   "codemirror_mode": {
    "name": "ipython",
    "version": 3
   },
   "file_extension": ".py",
   "mimetype": "text/x-python",
   "name": "python",
   "nbconvert_exporter": "python",
   "pygments_lexer": "ipython3",
   "version": "3.9.23"
  }
 },
 "nbformat": 4,
 "nbformat_minor": 5
}
