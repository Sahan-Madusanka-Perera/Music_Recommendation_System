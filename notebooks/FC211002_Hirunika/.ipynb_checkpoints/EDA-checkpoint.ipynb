{
 "cells": [
  {
   "cell_type": "markdown",
   "id": "649a55bc-40c7-4173-9640-c33e084528ac",
   "metadata": {},
   "source": [
    "            EDA\n",
    "FER2013 Emotion Dataset for Music Recommendation System\n",
    "- Input: 7 emotion classes (from FER2013)\r\n",
    "- Output: 5 final classes (after mapping)\r\n",
    "- Image Size: 48x48 grayscale\r\n",
    "- Model: EfficientNet B0 (needs 224x224 RGB)\n"
   ]
  },
  {
   "cell_type": "markdown",
   "id": "c4053cde-c3ee-4199-903d-eb6a09b91400",
   "metadata": {},
   "source": [
    "Already Done\n",
    "- Images are already 48x48 pixels\n",
    "- Images are already grayscale\n",
    "- Face detection already applied (FER2013 is pre-cropped)"
   ]
  },
  {
   "cell_type": "code",
   "execution_count": 1,
   "id": "70880dc8-a3cf-4885-a882-4149a224ffee",
   "metadata": {},
   "outputs": [
    {
     "name": "stderr",
     "output_type": "stream",
     "text": [
      "2025-07-13 20:14:27.182458: I tensorflow/core/util/port.cc:110] oneDNN custom operations are on. You may see slightly different numerical results due to floating-point round-off errors from different computation orders. To turn them off, set the environment variable `TF_ENABLE_ONEDNN_OPTS=0`.\n",
      "2025-07-13 20:14:27.195261: I tensorflow/tsl/cuda/cudart_stub.cc:28] Could not find cuda drivers on your machine, GPU will not be used.\n",
      "2025-07-13 20:14:27.296248: I tensorflow/tsl/cuda/cudart_stub.cc:28] Could not find cuda drivers on your machine, GPU will not be used.\n",
      "2025-07-13 20:14:27.297572: I tensorflow/core/platform/cpu_feature_guard.cc:182] This TensorFlow binary is optimized to use available CPU instructions in performance-critical operations.\n",
      "To enable the following instructions: AVX2 AVX_VNNI FMA, in other operations, rebuild TensorFlow with the appropriate compiler flags.\n",
      "2025-07-13 20:14:28.739348: W tensorflow/compiler/tf2tensorrt/utils/py_utils.cc:38] TF-TRT Warning: Could not find TensorRT\n"
     ]
    }
   ],
   "source": [
    "import os\n",
    "import cv2\n",
    "import numpy as np\n",
    "import matplotlib.pyplot as plt\n",
    "import seaborn as sns\n",
    "from collections import defaultdict\n",
    "from PIL import Image\n",
    "import warnings\n",
    "from tensorflow.keras.preprocessing.image import ImageDataGenerator\n",
    "warnings.filterwarnings(\"ignore\")"
   ]
  },
  {
   "cell_type": "code",
   "execution_count": 2,
   "id": "3f969c3f-ed52-4b8a-b81e-105b6f0327aa",
   "metadata": {},
   "outputs": [],
   "source": [
    "data_path = '/app/data/raw/fer2013'\n",
    "emotion_labels = ['angry', 'disgust', 'fear', 'happy', 'neutral', 'sad', 'surprise']\n",
    "\n"
   ]
  },
  {
   "cell_type": "code",
   "execution_count": 3,
   "id": "8d96a645-837e-4451-a967-420fe17ebe73",
   "metadata": {},
   "outputs": [
    {
     "name": "stdout",
     "output_type": "stream",
     "text": [
      "\n",
      "CLASS DISTRIBUTION REPORT\n",
      "------------------------------------------------------------\n",
      "\n",
      "TRAIN SET ANALYSIS:\n",
      "----------------------------------------\n",
      "  angry    :  3995 images\n",
      "  disgust  :   436 images\n",
      "  fear     :  4097 images\n",
      "  happy    :  7215 images\n",
      "  neutral  :  4965 images\n",
      "  sad      :  4830 images\n",
      "  surprise :  3171 images\n",
      "  TOTAL     : 28709 images\n",
      "\n",
      "TEST SET ANALYSIS:\n",
      "----------------------------------------\n",
      "  angry    :   958 images\n",
      "  disgust  :   111 images\n",
      "  fear     :  1024 images\n",
      "  happy    :  1774 images\n",
      "  neutral  :  1233 images\n",
      "  sad      :  1247 images\n",
      "  surprise :   831 images\n",
      "  TOTAL     : 7178 images\n"
     ]
    }
   ],
   "source": [
    "#  Print class distribution\n",
    "def print_class_distribution():\n",
    "    print(\"\\nCLASS DISTRIBUTION REPORT\\n\" + \"-\"*60)\n",
    "    for split in ['train', 'test']:\n",
    "        print(f\"\\n{split.upper()} SET ANALYSIS:\\n\" + \"-\"*40)\n",
    "        split_path = os.path.join(data_path, split)\n",
    "        total = 0\n",
    "        class_counts = {}\n",
    "        for cls in emotion_labels:\n",
    "            cls_path = os.path.join(split_path, cls)\n",
    "            count = len(os.listdir(cls_path))\n",
    "            class_counts[cls] = count\n",
    "            total += count\n",
    "        for cls in emotion_labels:\n",
    "            print(f\"  {cls:<9}: {class_counts[cls]:>5} images\")\n",
    "        print(f\"  TOTAL     : {total} images\")\n",
    "\n",
    "print_class_distribution()"
   ]
  },
  {
   "cell_type": "code",
   "execution_count": 4,
   "id": "25da3bbe-93b9-45e8-84eb-8e0543c8803a",
   "metadata": {},
   "outputs": [
    {
     "name": "stdout",
     "output_type": "stream",
     "text": [
      "Defining class mappings:\n",
      "Project-specific emotion mapping defined.\n",
      "\n",
      "FER2013 → Project Mapped Classes:\n",
      "  angry      → angry\n",
      "  disgust    → angry\n",
      "  fear       → stressed\n",
      "  happy      → happy\n",
      "  sad        → sad\n",
      "  surprise   → stressed\n",
      "  neutral    → neutral\n",
      "\n",
      " Final Classes Used in Project: ['angry', 'happy', 'sad', 'stressed', 'neutral']\n",
      "\n",
      " \n",
      " Original FER2013 Classes     : ['angry', 'disgust', 'fear', 'happy', 'neutral', 'sad', 'surprise']\n"
     ]
    }
   ],
   "source": [
    "# Class mapping\n",
    "print(\"Defining class mappings:\")\n",
    "project_mapping = {\n",
    "    'angry': 'angry',\n",
    "    'disgust': 'angry',\n",
    "    'fear': 'stressed',\n",
    "    'happy': 'happy',\n",
    "    'sad': 'sad',\n",
    "    'surprise': 'stressed',\n",
    "    'neutral': 'neutral'\n",
    "}\n",
    "print(\"Project-specific emotion mapping defined.\\n\")\n",
    "print(\"FER2013 → Project Mapped Classes:\")\n",
    "for original, mapped in project_mapping.items():\n",
    "    print(f\"  {original:<10} → {mapped}\")\n",
    "\n",
    "\n",
    "final_classes = ['angry', 'happy', 'sad', 'stressed', 'neutral']\n",
    "original_classes = ['angry', 'disgust', 'fear', 'happy', 'neutral', 'sad', 'surprise']\n",
    "\n",
    "print(\"\\n Final Classes Used in Project:\", final_classes)\n",
    "print(\"\\n \")\n",
    "print(\" Original FER2013 Classes     :\", original_classes)"
   ]
  },
  {
   "cell_type": "code",
   "execution_count": 5,
   "id": "9e8f0ee2-b6c6-4fdf-8832-ff01919e7a29",
   "metadata": {},
   "outputs": [
    {
     "name": "stdout",
     "output_type": "stream",
     "text": [
      "Checking if train and test folders exist:\n",
      "Train exists? True\n",
      "Test exists? True\n"
     ]
    }
   ],
   "source": [
    "print(\"Checking if train and test folders exist:\")\n",
    "print(\"Train exists?\", os.path.exists(os.path.join(data_path, \"train\")))\n",
    "print(\"Test exists?\", os.path.exists(os.path.join(data_path, \"test\")))"
   ]
  },
  {
   "cell_type": "code",
   "execution_count": 6,
   "id": "24f438ec-7f63-4d32-a2d8-da6d47a5e7a1",
   "metadata": {},
   "outputs": [
    {
     "name": "stdout",
     "output_type": "stream",
     "text": [
      "Computing class distributions for FER2013\n",
      "\n",
      "Analyzing 'train' set:\n",
      "  • Found 3995 images in 'angry' → Mapped to 'angry'\n",
      "  • Found 436 images in 'disgust' → Mapped to 'angry'\n",
      "  • Found 4097 images in 'fear' → Mapped to 'stressed'\n",
      "  • Found 7215 images in 'happy' → Mapped to 'happy'\n",
      "  • Found 4965 images in 'neutral' → Mapped to 'neutral'\n",
      "  • Found 4830 images in 'sad' → Mapped to 'sad'\n",
      "  • Found 3171 images in 'surprise' → Mapped to 'stressed'\n",
      "\n",
      "Analyzing 'test' set:\n",
      "  • Found 958 images in 'angry' → Mapped to 'angry'\n",
      "  • Found 111 images in 'disgust' → Mapped to 'angry'\n",
      "  • Found 1024 images in 'fear' → Mapped to 'stressed'\n",
      "  • Found 1774 images in 'happy' → Mapped to 'happy'\n",
      "  • Found 1233 images in 'neutral' → Mapped to 'neutral'\n",
      "  • Found 1247 images in 'sad' → Mapped to 'sad'\n",
      "  • Found 831 images in 'surprise' → Mapped to 'stressed'\n",
      "\n",
      "Finished computing class distributions.\n",
      "\n",
      "Summary of Mapped Class Distribution:\n",
      "\n",
      "TRAIN SET:\n",
      "  angry     : 4431 images\n",
      "  stressed  : 7268 images\n",
      "  happy     : 7215 images\n",
      "  neutral   : 4965 images\n",
      "  sad       : 4830 images\n",
      "  TOTAL     : 28709 images\n",
      "\n",
      "TEST SET:\n",
      "  angry     : 1069 images\n",
      "  stressed  : 1855 images\n",
      "  happy     : 1774 images\n",
      "  neutral   : 1233 images\n",
      "  sad       : 1247 images\n",
      "  TOTAL     : 7178 images\n"
     ]
    }
   ],
   "source": [
    "# Class Distributions\n",
    "def compute_class_distributions():\n",
    "    print(\"Computing class distributions for FER2013\")\n",
    "\n",
    "    original_dist = {'train': defaultdict(int), 'test': defaultdict(int)}\n",
    "    mapped_dist = {'train': defaultdict(int), 'test': defaultdict(int)}\n",
    "\n",
    "    for split in ['train', 'test']:\n",
    "        print(f\"\\nAnalyzing '{split}' set:\")\n",
    "        split_path = os.path.join(data_path, split)\n",
    "        \n",
    "        for cls in os.listdir(split_path):\n",
    "            cls_path = os.path.join(split_path, cls)\n",
    "            if os.path.isdir(cls_path):\n",
    "                count = len([\n",
    "                    f for f in os.listdir(cls_path)\n",
    "                    if f.lower().endswith(('.png', '.jpg', '.jpeg'))\n",
    "                ])\n",
    "                \n",
    "                original_dist[split][cls] += count\n",
    "                mapped_cls = project_mapping.get(cls)\n",
    "                if mapped_cls:\n",
    "                    mapped_dist[split][mapped_cls] += count\n",
    "                \n",
    "                print(f\"  • Found {count} images in '{cls}' → Mapped to '{mapped_cls}'\")\n",
    "\n",
    "    print(\"\\nFinished computing class distributions.\")\n",
    "    return original_dist, mapped_dist\n",
    "\n",
    "original_dist, mapped_dist = compute_class_distributions()\n",
    "\n",
    "# summary of mapped class distributions with totals\n",
    "print(\"\\nSummary of Mapped Class Distribution:\")\n",
    "for split in ['train', 'test']:\n",
    "    print(f\"\\n{split.upper()} SET:\")\n",
    "    total_images = 0\n",
    "    for cls, count in mapped_dist[split].items():\n",
    "        print(f\"  {cls:<10}: {count} images\")\n",
    "        total_images += count\n",
    "    print(f\"  {'TOTAL':<10}: {total_images} images\")"
   ]
  },
  {
   "cell_type": "code",
   "execution_count": 7,
   "id": "faaafe1e-89ce-410e-913f-5fc9671338d2",
   "metadata": {},
   "outputs": [
    {
     "name": "stdout",
     "output_type": "stream",
     "text": [
      "Plotting pie chart comparison of class ratios.\n",
      "\n",
      " \n"
     ]
    },
    {
     "data": {
      "image/png": "[encoded data removed]",
      "text/plain": [
       "<Figure size 1400x600 with 2 Axes>"
      ]
     },
     "metadata": {},
     "output_type": "display_data"
    }
   ],
   "source": [
    "#pie chart comparison of class ratios \n",
    "def plot_pie_comparison(mapped_dist):\n",
    "    print(\"Plotting pie chart comparison of class ratios.\")\n",
    "    print(\"\\n \")\n",
    "    fig, axs = plt.subplots(1, 2, figsize=(14, 6))\n",
    "    for i, split in enumerate(['train', 'test']):\n",
    "        data = mapped_dist[split]\n",
    "        axs[i].pie(data.values(), labels=data.keys(), autopct='%1.1f%%', startangle=140)\n",
    "        axs[i].set_title(f'{split.capitalize()} Set - Class Ratios')\n",
    "    plt.tight_layout()\n",
    "    plt.show()\n",
    "\n",
    "plot_pie_comparison(mapped_dist)\n"
   ]
  },
  {
   "cell_type": "code",
   "execution_count": 8,
   "id": "a8b9d8ba-737f-4630-9136-89581e300a46",
   "metadata": {},
   "outputs": [
    {
     "name": "stdout",
     "output_type": "stream",
     "text": [
      "Checking for corrupted images in the dataset...\n",
      "Scanned train folder.\n",
      "Scanned test folder.\n",
      "\n",
      " Total corrupted files found: 0\n"
     ]
    }
   ],
   "source": [
    "#  Corrupted Images\n",
    "def check_corrupted_images(data_path):\n",
    "    print(\"Checking for corrupted images in the dataset...\")\n",
    "    corrupted_files = []\n",
    "\n",
    "    for split in ['train', 'test']:\n",
    "        split_path = os.path.join(data_path, split)\n",
    "        \n",
    "\n",
    "        for emotion in os.listdir(split_path):\n",
    "            emotion_path = os.path.join(split_path, emotion)\n",
    "\n",
    "            if not os.path.isdir(emotion_path):\n",
    "                continue\n",
    "\n",
    "            for img_file in os.listdir(emotion_path):\n",
    "                img_path = os.path.join(emotion_path, img_file)\n",
    "                try:\n",
    "                    with Image.open(img_path) as img:\n",
    "                        img.verify()  # Check if image is corrupted\n",
    "                except Exception as e:\n",
    "                    print(f\"Corrupted: {img_path} ({str(e)})\")\n",
    "                    corrupted_files.append(img_path)\n",
    "        print(f\"Scanned {split} folder.\")\n",
    "\n",
    "    print(f\"\\n Total corrupted files found: {len(corrupted_files)}\")\n",
    "    return corrupted_files\n",
    "\n",
    "\n",
    "corrupted_images = check_corrupted_images(data_path)"
   ]
  },
  {
   "cell_type": "code",
   "execution_count": 9,
   "id": "1f1b8792-693f-4b46-84c5-66520ff610c9",
   "metadata": {},
   "outputs": [
    {
     "name": "stdout",
     "output_type": "stream",
     "text": [
      "\n",
      " Calculating Class Imbalance Ratios...\n",
      "\n",
      " TRAIN Set Ratios:\n",
      "   - stressed  : 25.32%\n",
      "   - happy     : 25.13%\n",
      "   - neutral   : 17.29%\n",
      "   - sad       : 16.82%\n",
      "   - angry     : 15.43%\n",
      "\n",
      " TEST Set Ratios:\n",
      "   - stressed  : 25.84%\n",
      "   - happy     : 24.71%\n",
      "   - sad       : 17.37%\n",
      "   - neutral   : 17.18%\n",
      "   - angry     : 14.89%\n",
      "\n"
     ]
    }
   ],
   "source": [
    "#  Class Imbalance Ratios\n",
    "def calculate_imbalance_ratios(mapped_dist):\n",
    "    print(\"\\n Calculating Class Imbalance Ratios...\\n\")\n",
    "    imbalance_info = {}\n",
    "\n",
    "    for split in ['train', 'test']:\n",
    "        dist = mapped_dist.get(split, {})\n",
    "        total = sum(dist.values())\n",
    "\n",
    "        if total == 0:\n",
    "            print(f\" No data found for {split}. Skipping...\")\n",
    "            continue\n",
    "\n",
    "        ratios = {cls: round((count / total) * 100, 2) for cls, count in dist.items()}\n",
    "        sorted_ratios = dict(sorted(ratios.items(), key=lambda item: item[1], reverse=True))\n",
    "        imbalance_info[split] = sorted_ratios\n",
    "\n",
    "        print(f\" {split.upper()} Set Ratios:\")\n",
    "        for cls, pct in sorted_ratios.items():\n",
    "            print(f\"   - {cls:<10}: {pct}%\")\n",
    "        print()\n",
    "\n",
    "    return imbalance_info\n",
    "\n",
    "imbalance_info = calculate_imbalance_ratios(mapped_dist)"
   ]
  },
  {
   "cell_type": "code",
   "execution_count": 10,
   "id": "1b034419-007b-4a3f-b01f-6afe6740b9d8",
   "metadata": {},
   "outputs": [
    {
     "name": "stdout",
     "output_type": "stream",
     "text": [
      "Showing image augmentations...\n"
     ]
    },
    {
     "data": {
      "image/png": "[encoded data removed]",
      "text/plain": [
       "<Figure size 1200x500 with 10 Axes>"
      ]
     },
     "metadata": {},
     "output_type": "display_data"
    }
   ],
   "source": [
    "#  Augmentation Grid\n",
    "from tensorflow.keras.preprocessing.image import ImageDataGenerator\n",
    "\n",
    "def show_augmentation_grid(sample_img):\n",
    "    \"\"\"\n",
    "    Displays a grid of 10 augmented versions of a single grayscale 48x48 image.\n",
    "    \"\"\"\n",
    "    print(\"Showing image augmentations...\")\n",
    "\n",
    "    #Ensures the input image is 48×48 (FER2013 standard) grayscale format\n",
    "    if sample_img.shape != (48, 48):\n",
    "        raise ValueError(f\"Expected input shape (48, 48), got {sample_img.shape}\")\n",
    "\n",
    "    # Reshapes it from (48, 48) to (1, 48, 48, 1) to match Keras' expected input.\n",
    "    sample_img = np.expand_dims(sample_img, axis=(0, -1)).astype('float32')\n",
    "    sample_img /= 255.0  # Normalize to [0, 1]\n",
    "\n",
    "    # Create ImageDataGenerator with augmentations\n",
    "    datagen = ImageDataGenerator(\n",
    "        rotation_range=15,\n",
    "        width_shift_range=0.1,\n",
    "        height_shift_range=0.1,\n",
    "        brightness_range=[0.9, 1.1],#adjust brightness\n",
    "        zoom_range=0.05,#slight zoom in/out\n",
    "        horizontal_flip=True,#mirror images\n",
    "        fill_mode='nearest'#ills empty pixels after transforms\n",
    "    )\n",
    "\n",
    "    # Plot 10 augmentations\n",
    "    fig, axes = plt.subplots(2, 5, figsize=(12, 5))\n",
    "    for i, batch in enumerate(datagen.flow(sample_img, batch_size=1)):\n",
    "        ax = axes[i // 5, i % 5]\n",
    "        ax.imshow(batch[0].reshape(48, 48), cmap='gray')\n",
    "        ax.axis('off')\n",
    "        if i == 9:\n",
    "            break\n",
    "\n",
    "    plt.suptitle(\"Augmentation Preview\", fontsize=14)\n",
    "    plt.tight_layout()\n",
    "    plt.show()\n",
    "\n",
    "test_img = np.random.randint(0, 256, (48, 48), dtype=np.uint8)\n",
    "show_augmentation_grid(test_img)"
   ]
  },
  {
   "cell_type": "code",
   "execution_count": 12,
   "id": "ef58e735-244c-4fcf-9976-d0a3b01b6650",
   "metadata": {},
   "outputs": [],
   "source": [
    "# Image quality statistics\n",
    "def get_image_statistics(image):\n",
    "    brightness = np.mean(image)\n",
    "    contrast = np.std(image)\n",
    "    edges = cv2.Sobel(image, cv2.CV_64F, 1, 1, ksize=3)\n",
    "    edge_density = np.mean(np.abs(edges))\n",
    "    return brightness, contrast, edge_density"
   ]
  },
  {
   "cell_type": "code",
   "execution_count": null,
   "id": "c77b03f1-a22d-44f8-b81f-65379ca81fe5",
   "metadata": {},
   "outputs": [],
   "source": [
    "#  Dataset quality metrics\n",
    "def compute_quality_stats(split='train', sample_limit=1000):\n",
    "    split_path = os.path.join(data_path, split)\n",
    "    brightness_list, contrast_list, edge_density_list, all_pixels = [], [], [], []\n",
    "\n",
    "    for cls in emotion_labels:\n",
    "        cls_path = os.path.join(split_path, cls)\n",
    "        images = os.listdir(cls_path)[:sample_limit]\n",
    "        for img_name in images:\n",
    "            img_path = os.path.join(cls_path, img_name)\n",
    "            img = cv2.imread(img_path, cv2.IMREAD_GRAYSCALE)\n",
    "            if img is None:\n",
    "                continue\n",
    "            brightness, contrast, edge_density = get_image_statistics(img)\n",
    "            brightness_list.append(brightness)\n",
    "            contrast_list.append(contrast)\n",
    "            edge_density_list.append(edge_density)\n",
    "            all_pixels.extend(img.flatten())\n",
    "    return brightness_list, contrast_list, edge_density_list, all_pixels\n",
    "\n",
    "def print_and_plot_stats(brightness_list, contrast_list, edge_density_list, all_pixels, split='train'):\n",
    "    print(f\"Statistics for {split} split:\")\n",
    "    print(f\"Number of images analyzed: {len(brightness_list)}\")\n",
    "    print(f\"Mean Brightness: {np.mean(brightness_list):.2f}\")\n",
    "    print(f\"Mean Contrast: {np.mean(contrast_list):.2f}\")\n",
    "    print(f\"Mean Edge Density: {np.mean(edge_density_list):.2f}\")\n",
    "    \n",
    "    sns.histplot(brightness_list, bins=30, kde=True)\n",
    "    plt.title(f\"Brightness Distribution ({split})\")\n",
    "    plt.xlabel(\"Brightness\")\n",
    "    plt.ylabel(\"Frequency\")\n",
    "    plt.show()\n",
    "    \n",
    "    sns.histplot(contrast_list, bins=30, kde=True)\n",
    "    plt.title(f\"Contrast Distribution ({split})\")\n",
    "    plt.xlabel(\"Contrast\")\n",
    "    plt.ylabel(\"Frequency\")\n",
    "    plt.show()\n",
    "    \n",
    "    sns.histplot(edge_density_list, bins=30, kde=True)\n",
    "    plt.title(f\"Edge Density Distribution ({split})\")\n",
    "    plt.xlabel(\"Edge Density\")\n",
    "    plt.ylabel(\"Frequency\")\n",
    "    plt.show()\n",
    "    \n",
    "    sns.histplot(all_pixels, bins=50, kde=True)\n",
    "    plt.title(f\"Pixel Intensity Distribution ({split})\")\n",
    "    plt.xlabel(\"Pixel Value (0-255)\")\n",
    "    plt.ylabel(\"Frequency\")\n",
    "    plt.show()\n",
    "\n",
    "# Run analysis for train split \n",
    "brightness, contrast, edge_density, pixels = compute_quality_stats(split='train')\n",
    "print_and_plot_stats(brightness, contrast, edge_density, pixels, split='train')\n"
   ]
  },
  {
   "cell_type": "code",
   "execution_count": null,
   "id": "5247cb48-ca2c-4972-bc45-ef1194ecb8e7",
   "metadata": {},
   "outputs": [],
   "source": [
    "# #  Plot all EDA visuals\n",
    "# def plot_full_eda(split='train'):\n",
    "#     brightness_list, contrast_list, edge_density_list, all_pixels = compute_quality_stats(split)\n",
    "\n",
    "#     fig, axes = plt.subplots(2, 3, figsize=(18, 10))\n",
    "#     fig.suptitle(f\"FER2013 Dataset - Image Quality Analysis ({split.upper()} set)\", fontsize=16, weight='bold')\n",
    "\n",
    "#     # Brightness Distribution\n",
    "#     axes[0, 0].hist(brightness_list, bins=30, color='skyblue', edgecolor='black')\n",
    "#     axes[0, 0].axvline(np.mean(brightness_list), color='red', linestyle='--')\n",
    "#     axes[0, 0].set_title(\"Brightness Distribution\\n(Average Pixel Intensity)\")\n",
    "#     axes[0, 0].set_xlabel(\"Brightness (0-255)\")\n",
    "#     axes[0, 0].set_ylabel(\"Frequency\")\n",
    "\n",
    "#     # Contrast Distribution\n",
    "#     axes[0, 1].hist(contrast_list, bins=30, color='lightcoral', edgecolor='black')\n",
    "#     axes[0, 1].axvline(np.mean(contrast_list), color='red', linestyle='--')\n",
    "#     axes[0, 1].set_title(\"Contrast Distribution\\n(Pixel Standard Deviation)\")\n",
    "#     axes[0, 1].set_xlabel(\"Contrast\")\n",
    "#     axes[0, 1].set_ylabel(\"Frequency\")\n",
    "\n",
    "#     # Edge Density Distribution\n",
    "#     axes[0, 2].hist(edge_density_list, bins=30, color='lightgreen', edgecolor='black')\n",
    "#     axes[0, 2].axvline(np.mean(edge_density_list), color='red', linestyle='--')\n",
    "#     axes[0, 2].set_title(\"Edge Density Distribution\\n(Texture/Detail Level)\")\n",
    "#     axes[0, 2].set_xlabel(\"Edge Density\")\n",
    "#     axes[0, 2].set_ylabel(\"Frequency\")\n",
    "\n",
    "#     # Overall Pixel Intensity\n",
    "#     axes[1, 0].hist(all_pixels, bins=50, color='purple')\n",
    "#     axes[1, 0].set_title(\"Overall Pixel Intensity Distribution\")\n",
    "#     axes[1, 0].set_xlabel(\"Pixel Intensity (0-255)\")\n",
    "#     axes[1, 0].set_ylabel(\"Frequency\")\n",
    "\n",
    "#     # Brightness vs Contrast Scatter\n",
    "#     axes[1, 1].scatter(brightness_list, contrast_list, alpha=0.7)\n",
    "#     axes[1, 1].set_title(\"Brightness vs Contrast\")\n",
    "#     axes[1, 1].set_xlabel(\"Brightness\")\n",
    "#     axes[1, 1].set_ylabel(\"Contrast\")\n",
    "\n",
    "#     # Dataset Summary Box\n",
    "#     summary_text = (\n",
    "#         f\"DATASET SUMMARY:\\n\"\n",
    "#         f\"Image Format : 48x48 grayscale\\n\"\n",
    "#         f\"Total Images : {len(brightness_list)}\\n\"\n",
    "#         f\"Avg Brightness: {np.mean(brightness_list):.1f}\\n\"\n",
    "#         f\"Avg Contrast : {np.mean(contrast_list):.1f}\\n\"\n",
    "#         f\"Avg Edge Density: {np.mean(edge_density_list):.1f}\\n\"\n",
    "#         f\"\\nQuality Indicators:\\n\"\n",
    "#         f\"✓ Balanced brightness levels\\n\"\n",
    "#         f\"✓ Rich texture details\"\n",
    "#     )\n",
    "#     axes[1, 2].axis('off')\n",
    "#     axes[1, 2].text(0.1, 0.5, summary_text, fontsize=12, va='center', ha='left', fontfamily='monospace')\n",
    "\n",
    "#     plt.tight_layout(rect=[0, 0, 1, 0.95])\n",
    "#     plt.show()\n"
   ]
  }
 ],
 "metadata": {
  "kernelspec": {
   "display_name": "Python 3 (ipykernel)",
   "language": "python",
   "name": "python3"
  },
  "language_info": {
   "codemirror_mode": {
    "name": "ipython",
    "version": 3
   },
   "file_extension": ".py",
   "mimetype": "text/x-python",
   "name": "python",
   "nbconvert_exporter": "python",
   "pygments_lexer": "ipython3",
   "version": "3.9.23"
  }
 },
 "nbformat": 4,
 "nbformat_minor": 5
}
