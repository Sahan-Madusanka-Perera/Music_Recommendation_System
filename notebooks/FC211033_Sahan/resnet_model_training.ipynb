{
 "cells": [
  {
   "cell_type": "markdown",
   "id": "08797bd4",
   "metadata": {},
   "source": [
    "# ResNet-18 Emotion Recognition Model Training\n",
    "\n",
    "This notebook implements a ResNet-18 model for emotion recognition with professional training pipeline and visualization.\n",
    "\n",
    "## Features:\n",
    "- ResNet-18 architecture with custom classifier head\n",
    "- Advanced data augmentation\n",
    "- Mixed precision training\n",
    "- Professional visualization\n",
    "- Model checkpointing and early stopping\n",
    "\n",
    "**Author:** FC211033 Sahan  \n",
    "**Date:** July 2025"
   ]
  },
  {
   "cell_type": "markdown",
   "id": "33644f5b",
   "metadata": {},
   "source": [
    "## 1. Import Dependencies"
   ]
  },
  {
   "cell_type": "code",
   "execution_count": 1,
   "id": "ed1316e6",
   "metadata": {},
   "outputs": [
    {
     "name": "stdout",
     "output_type": "stream",
     "text": [
      "Device: cuda\n",
      "GPU: NVIDIA GeForce RTX 3050 Laptop GPU\n",
      "CUDA Memory: 4.0 GB\n"
     ]
    }
   ],
   "source": [
    "import torch\n",
    "import torch.nn as nn\n",
    "import torch.optim as optim\n",
    "import torch.nn.functional as F\n",
    "from torch.utils.data import Dataset, DataLoader, random_split\n",
    "from torch.cuda.amp import GradScaler, autocast\n",
    "from torchvision import transforms, models\n",
    "\n",
    "import os\n",
    "import cv2\n",
    "import numpy as np\n",
    "import pandas as pd\n",
    "import matplotlib.pyplot as plt\n",
    "import seaborn as sns\n",
    "from PIL import Image\n",
    "from tqdm import tqdm\n",
    "import time\n",
    "import json\n",
    "import warnings\n",
    "from pathlib import Path\n",
    "warnings.filterwarnings('ignore')\n",
    "\n",
    "# Set style for professional plots\n",
    "plt.style.use('seaborn-v0_8-whitegrid')\n",
    "sns.set_palette(\"husl\")\n",
    "\n",
    "# Device configuration\n",
    "device = torch.device('cuda' if torch.cuda.is_available() else 'cpu')\n",
    "if torch.cuda.is_available():\n",
    "    torch.backends.cudnn.benchmark = True\n",
    "    torch.backends.cudnn.deterministic = False\n",
    "\n",
    "print(f\"Device: {device}\")\n",
    "if torch.cuda.is_available():\n",
    "    print(f\"GPU: {torch.cuda.get_device_name()}\")\n",
    "    print(f\"CUDA Memory: {torch.cuda.get_device_properties(0).total_memory / 1024**3:.1f} GB\")\n",
    "    \n",
    "# Set random seeds for reproducibility\n",
    "torch.manual_seed(42)\n",
    "np.random.seed(42)\n",
    "if torch.cuda.is_available():\n",
    "    torch.cuda.manual_seed(42)"
   ]
  },
  {
   "cell_type": "markdown",
   "id": "d10a73fd",
   "metadata": {},
   "source": [
    "## 2. Configuration"
   ]
  },
  {
   "cell_type": "code",
   "execution_count": 7,
   "id": "a7266dc5",
   "metadata": {},
   "outputs": [
    {
     "name": "stdout",
     "output_type": "stream",
     "text": [
      "Configuration:\n",
      "----------------------------------------\n",
      "data_path      : ../../data/processed/FC211033_Sahan\n",
      "save_dir       : ./models\n",
      "image_size     : 64\n",
      "batch_size     : 32\n",
      "num_workers    : 0\n",
      "epochs         : 25\n",
      "learning_rate  : 0.001\n",
      "weight_decay   : 0.0001\n",
      "patience       : 8\n",
      "num_classes    : 5\n",
      "dropout_rate   : 0.3\n",
      "label_smoothing: 0.1\n",
      "mixup_alpha    : 0.2\n",
      "train_split    : 0.8\n"
     ]
    }
   ],
   "source": [
    "CONFIG = {\n",
    "    'data_path': '../../data/processed/FC211033_Sahan',\n",
    "    'save_dir': './models',\n",
    "    'image_size': 64,\n",
    "    'batch_size': 32,\n",
    "    'num_workers': 0,  # Set to 0 for Windows compatibility\n",
    "    'epochs': 25,\n",
    "    'learning_rate': 1e-3,\n",
    "    'weight_decay': 1e-4,\n",
    "    'patience': 8,\n",
    "    'num_classes': 5,\n",
    "    'dropout_rate': 0.3,\n",
    "    'label_smoothing': 0.1,\n",
    "    'mixup_alpha': 0.2,\n",
    "    'train_split': 0.8  # 80% for training, 20% for validation\n",
    "}\n",
    "\n",
    "# Create save directory\n",
    "os.makedirs(CONFIG['save_dir'], exist_ok=True)\n",
    "\n",
    "# Print configuration\n",
    "print(\"Configuration:\")\n",
    "print(\"-\" * 40)\n",
    "for key, value in CONFIG.items():\n",
    "    print(f\"{key:15}: {value}\")"
   ]
  },
  {
   "cell_type": "markdown",
   "id": "9ebdc616",
   "metadata": {},
   "source": [
    "## 3. Dataset Implementation"
   ]
  },
  {
   "cell_type": "code",
   "execution_count": 8,
   "id": "ee9c6428",
   "metadata": {},
   "outputs": [
    {
     "name": "stdout",
     "output_type": "stream",
     "text": [
      "Loading data from: ..\\..\\data\\processed\\FC211033_Sahan\n",
      "Expected emotions: ['angry', 'happy', 'neutral', 'sad', 'surprise']\n",
      "\n",
      "Checking: ..\\..\\data\\processed\\FC211033_Sahan\\angry\n",
      "  Found 3983 image files\n",
      "\n",
      "Checking: ..\\..\\data\\processed\\FC211033_Sahan\\happy\n",
      "  Found 7210 image files\n",
      "\n",
      "Checking: ..\\..\\data\\processed\\FC211033_Sahan\\neutral\n",
      "  Found 4959 image files\n",
      "\n",
      "Checking: ..\\..\\data\\processed\\FC211033_Sahan\\sad\n",
      "  Found 4826 image files\n",
      "\n",
      "Checking: ..\\..\\data\\processed\\FC211033_Sahan\\surprise\n",
      "  Found 3165 image files\n",
      "\n",
      "Total samples loaded: 24143\n",
      "Class distribution:\n",
      "  angry   : 3983 ( 16.5%)\n",
      "  happy   : 7210 ( 29.9%)\n",
      "  neutral : 4959 ( 20.5%)\n",
      "  sad     : 4826 ( 20.0%)\n",
      "  surprise: 3165 ( 13.1%)\n",
      "\n",
      "Data split:\n",
      "  Training:   19314 samples (80.0%)\n",
      "  Validation: 4829 samples (20.0%)\n",
      "\n",
      "Updated num_classes to: 5\n",
      "Emotion classes: ['angry', 'happy', 'neutral', 'sad', 'surprise']\n"
     ]
    }
   ],
   "source": [
    "class EmotionDataset(Dataset):\n",
    "    \"\"\"Professional emotion dataset with advanced augmentation.\"\"\"\n",
    "    \n",
    "    def __init__(self, data_list, transform=None):\n",
    "        self.data_list = data_list\n",
    "        self.transform = transform\n",
    "        \n",
    "        print(f\"Dataset created with {len(self.data_list)} samples\")\n",
    "    \n",
    "    def __len__(self):\n",
    "        return len(self.data_list)\n",
    "    \n",
    "    def __getitem__(self, idx):\n",
    "        item = self.data_list[idx]\n",
    "        \n",
    "        # Load image\n",
    "        image = cv2.imread(item['path'], cv2.IMREAD_GRAYSCALE)\n",
    "        if image is None:\n",
    "            raise RuntimeError(f\"Could not load image: {item['path']}\")\n",
    "            \n",
    "        image = cv2.resize(image, (CONFIG['image_size'], CONFIG['image_size']))\n",
    "        image = Image.fromarray(image).convert('RGB')\n",
    "        \n",
    "        # Apply transforms\n",
    "        if self.transform:\n",
    "            image = self.transform(image)\n",
    "        \n",
    "        return image, item['label']\n",
    "\n",
    "def load_emotion_data(data_path):\n",
    "    \"\"\"Load all emotion data and create train/validation splits.\"\"\"\n",
    "    data_path = Path(data_path)\n",
    "    \n",
    "    # Define emotion classes - updated to match actual data structure\n",
    "    emotions = ['angry', 'happy', 'neutral', 'sad', 'surprise']\n",
    "    class_to_idx = {emotion: idx for idx, emotion in enumerate(emotions)}\n",
    "    \n",
    "    print(f\"Loading data from: {data_path}\")\n",
    "    print(f\"Expected emotions: {emotions}\")\n",
    "    \n",
    "    all_data = []\n",
    "    class_counts = {emotion: 0 for emotion in emotions}\n",
    "    \n",
    "    for emotion in emotions:\n",
    "        emotion_path = data_path / emotion\n",
    "        print(f\"\\nChecking: {emotion_path}\")\n",
    "        \n",
    "        if emotion_path.exists():\n",
    "            # Try different image extensions\n",
    "            image_files = []\n",
    "            for ext in ['*.png', '*.jpg', '*.jpeg']:\n",
    "                image_files.extend(list(emotion_path.glob(ext)))\n",
    "            \n",
    "            print(f\"  Found {len(image_files)} image files\")\n",
    "            \n",
    "            for img_path in image_files:\n",
    "                all_data.append({\n",
    "                    'path': str(img_path),\n",
    "                    'label': class_to_idx[emotion],\n",
    "                    'emotion': emotion\n",
    "                })\n",
    "                class_counts[emotion] += 1\n",
    "        else:\n",
    "            print(f\"  ❌ Directory not found: {emotion_path}\")\n",
    "    \n",
    "    print(f\"\\nTotal samples loaded: {len(all_data)}\")\n",
    "    print(\"Class distribution:\")\n",
    "    for emotion, count in class_counts.items():\n",
    "        if len(all_data) > 0:\n",
    "            percentage = (count / len(all_data)) * 100\n",
    "            print(f\"  {emotion:8}: {count:4d} ({percentage:5.1f}%)\")\n",
    "    \n",
    "    if len(all_data) == 0:\n",
    "        raise RuntimeError(\"No data found! Please check the data path and structure.\")\n",
    "    \n",
    "    # Shuffle data\n",
    "    np.random.shuffle(all_data)\n",
    "    \n",
    "    # Split into train and validation\n",
    "    split_idx = int(len(all_data) * CONFIG['train_split'])\n",
    "    train_data = all_data[:split_idx]\n",
    "    val_data = all_data[split_idx:]\n",
    "    \n",
    "    print(f\"\\nData split:\")\n",
    "    print(f\"  Training:   {len(train_data)} samples ({len(train_data)/len(all_data)*100:.1f}%)\")\n",
    "    print(f\"  Validation: {len(val_data)} samples ({len(val_data)/len(all_data)*100:.1f}%)\")\n",
    "    \n",
    "    return train_data, val_data, emotions, class_to_idx\n",
    "\n",
    "# Load the data\n",
    "train_data, val_data, emotion_classes, class_to_idx = load_emotion_data(CONFIG['data_path'])\n",
    "\n",
    "# Update config with actual number of classes\n",
    "CONFIG['num_classes'] = len(emotion_classes)\n",
    "print(f\"\\nUpdated num_classes to: {CONFIG['num_classes']}\")\n",
    "print(f\"Emotion classes: {emotion_classes}\")"
   ]
  },
  {
   "cell_type": "markdown",
   "id": "1758d0f5",
   "metadata": {},
   "source": [
    "## 4. Data Transforms and Loaders"
   ]
  },
  {
   "cell_type": "code",
   "execution_count": 10,
   "id": "6a3ade5e",
   "metadata": {},
   "outputs": [
    {
     "name": "stdout",
     "output_type": "stream",
     "text": [
      "Creating datasets...\n",
      "Dataset created with 19314 samples\n",
      "Dataset created with 4829 samples\n",
      "\n",
      " Data loaders created successfully:\n",
      "  Train samples: 19314\n",
      "  Val samples:   4829\n",
      "  Train batches: 604\n",
      "  Val batches:   151\n",
      "  Batch size:    32\n",
      "\n",
      " Sample batch loaded successfully:\n",
      "  Images shape: torch.Size([32, 3, 64, 64])\n",
      "  Labels shape: torch.Size([32])\n",
      "  Image range: [-2.118, 2.640]\n",
      "  Label range: [0, 4]\n"
     ]
    }
   ],
   "source": [
    "# Define transforms\n",
    "train_transform = transforms.Compose([\n",
    "    transforms.Resize((CONFIG['image_size'], CONFIG['image_size'])),\n",
    "    transforms.RandomHorizontalFlip(p=0.5),\n",
    "    transforms.RandomRotation(degrees=15),\n",
    "    transforms.ColorJitter(brightness=0.2, contrast=0.2),\n",
    "    transforms.RandomAffine(degrees=0, translate=(0.1, 0.1)),\n",
    "    transforms.ToTensor(),\n",
    "    transforms.Normalize(mean=[0.485, 0.456, 0.406], std=[0.229, 0.224, 0.225])\n",
    "])\n",
    "\n",
    "val_transform = transforms.Compose([\n",
    "    transforms.Resize((CONFIG['image_size'], CONFIG['image_size'])),\n",
    "    transforms.ToTensor(),\n",
    "    transforms.Normalize(mean=[0.485, 0.456, 0.406], std=[0.229, 0.224, 0.225])\n",
    "])\n",
    "\n",
    "# Create datasets using the loaded data\n",
    "print(\"Creating datasets...\")\n",
    "train_dataset = EmotionDataset(train_data, train_transform)\n",
    "val_dataset = EmotionDataset(val_data, val_transform)\n",
    "\n",
    "# Create data loaders\n",
    "train_loader = DataLoader(\n",
    "    train_dataset, \n",
    "    batch_size=CONFIG['batch_size'], \n",
    "    shuffle=True,\n",
    "    num_workers=CONFIG['num_workers'],\n",
    "    pin_memory=True if torch.cuda.is_available() else False\n",
    ")\n",
    "\n",
    "val_loader = DataLoader(\n",
    "    val_dataset, \n",
    "    batch_size=CONFIG['batch_size'], \n",
    "    shuffle=False,\n",
    "    num_workers=CONFIG['num_workers'],\n",
    "    pin_memory=True if torch.cuda.is_available() else False\n",
    ")\n",
    "\n",
    "print(f\"\\n Data loaders created successfully:\")\n",
    "print(f\"  Train samples: {len(train_dataset)}\")\n",
    "print(f\"  Val samples:   {len(val_dataset)}\")\n",
    "print(f\"  Train batches: {len(train_loader)}\")\n",
    "print(f\"  Val batches:   {len(val_loader)}\")\n",
    "print(f\"  Batch size:    {CONFIG['batch_size']}\")\n",
    "\n",
    "# Test loading a sample batch\n",
    "try:\n",
    "    sample_batch = next(iter(train_loader))\n",
    "    print(f\"\\n Sample batch loaded successfully:\")\n",
    "    print(f\"  Images shape: {sample_batch[0].shape}\")\n",
    "    print(f\"  Labels shape: {sample_batch[1].shape}\")\n",
    "    print(f\"  Image range: [{sample_batch[0].min():.3f}, {sample_batch[0].max():.3f}]\")\n",
    "    print(f\"  Label range: [{sample_batch[1].min()}, {sample_batch[1].max()}]\")\n",
    "except Exception as e:\n",
    "    print(f\" Error loading sample batch: {e}\")"
   ]
  },
  {
   "cell_type": "markdown",
   "id": "354b4a1d",
   "metadata": {},
   "source": [
    "## 5. Model Architecture"
   ]
  },
  {
   "cell_type": "code",
   "execution_count": 11,
   "id": "ccf38a1f",
   "metadata": {},
   "outputs": [
    {
     "name": "stdout",
     "output_type": "stream",
     "text": [
      "Model Architecture:\n",
      "----------------------------------------\n",
      "Total parameters:     11,309,637\n",
      "Trainable parameters: 9,117,189\n",
      "Model size:           43.1 MB\n"
     ]
    }
   ],
   "source": [
    "class EmotionResNet(nn.Module):\n",
    "    \"\"\"ResNet-18 based emotion recognition model.\"\"\"\n",
    "    \n",
    "    def __init__(self, num_classes=5, dropout_rate=0.3):\n",
    "        super(EmotionResNet, self).__init__()\n",
    "        \n",
    "        # Load pretrained ResNet-18\n",
    "        self.backbone = models.resnet18(pretrained=True)\n",
    "        \n",
    "        # Freeze early layers for transfer learning\n",
    "        for param in list(self.backbone.parameters())[:-20]:\n",
    "            param.requires_grad = False\n",
    "        \n",
    "        # Get feature size\n",
    "        feature_size = self.backbone.fc.in_features\n",
    "        \n",
    "        # Replace classifier head\n",
    "        self.backbone.fc = nn.Sequential(\n",
    "            nn.Dropout(dropout_rate),\n",
    "            nn.Linear(feature_size, 256),\n",
    "            nn.ReLU(),\n",
    "            nn.BatchNorm1d(256),\n",
    "            nn.Dropout(dropout_rate),\n",
    "            nn.Linear(256, num_classes)\n",
    "        )\n",
    "    \n",
    "    def forward(self, x):\n",
    "        return self.backbone(x)\n",
    "\n",
    "# Create model\n",
    "model = EmotionResNet(\n",
    "    num_classes=CONFIG['num_classes'], \n",
    "    dropout_rate=CONFIG['dropout_rate']\n",
    ").to(device)\n",
    "\n",
    "# Model summary\n",
    "total_params = sum(p.numel() for p in model.parameters())\n",
    "trainable_params = sum(p.numel() for p in model.parameters() if p.requires_grad)\n",
    "\n",
    "print(\"Model Architecture:\")\n",
    "print(\"-\" * 40)\n",
    "print(f\"Total parameters:     {total_params:,}\")\n",
    "print(f\"Trainable parameters: {trainable_params:,}\")\n",
    "print(f\"Model size:           {total_params * 4 / 1024**2:.1f} MB\")"
   ]
  },
  {
   "cell_type": "markdown",
   "id": "aba66118",
   "metadata": {},
   "source": [
    "## 6. Training Setup"
   ]
  },
  {
   "cell_type": "code",
   "execution_count": 12,
   "id": "22bac1d1",
   "metadata": {},
   "outputs": [
    {
     "name": "stdout",
     "output_type": "stream",
     "text": [
      "Training components initialized:\n",
      "----------------------------------------\n",
      "Criterion:     CrossEntropyLoss (label_smoothing=0.1)\n",
      "Optimizer:     AdamW (lr=0.001, wd=0.0001)\n",
      "Scheduler:     CosineAnnealingWarmRestarts\n",
      "Mixed Precision: Enabled\n"
     ]
    }
   ],
   "source": [
    "# Loss function with label smoothing\n",
    "criterion = nn.CrossEntropyLoss(label_smoothing=CONFIG['label_smoothing'])\n",
    "\n",
    "# Optimizer with weight decay\n",
    "optimizer = optim.AdamW(\n",
    "    model.parameters(),\n",
    "    lr=CONFIG['learning_rate'],\n",
    "    weight_decay=CONFIG['weight_decay']\n",
    ")\n",
    "\n",
    "# Learning rate scheduler\n",
    "scheduler = optim.lr_scheduler.CosineAnnealingWarmRestarts(\n",
    "    optimizer, T_0=10, T_mult=2, eta_min=1e-6\n",
    ")\n",
    "\n",
    "# Mixed precision scaler\n",
    "scaler = GradScaler()\n",
    "\n",
    "print(\"Training components initialized:\")\n",
    "print(\"-\" * 40)\n",
    "print(f\"Criterion:     CrossEntropyLoss (label_smoothing={CONFIG['label_smoothing']})\")\n",
    "print(f\"Optimizer:     AdamW (lr={CONFIG['learning_rate']}, wd={CONFIG['weight_decay']})\")\n",
    "print(f\"Scheduler:     CosineAnnealingWarmRestarts\")\n",
    "print(f\"Mixed Precision: Enabled\")"
   ]
  },
  {
   "cell_type": "markdown",
   "id": "8fd0cbab",
   "metadata": {},
   "source": [
    "## 7. Training Functions"
   ]
  },
  {
   "cell_type": "code",
   "execution_count": 13,
   "id": "fd560203",
   "metadata": {},
   "outputs": [
    {
     "name": "stdout",
     "output_type": "stream",
     "text": [
      "Training functions defined\n"
     ]
    }
   ],
   "source": [
    "def mixup_data(x, y, alpha=0.2):\n",
    "    \"\"\"Apply mixup data augmentation.\"\"\"\n",
    "    if alpha > 0:\n",
    "        lam = np.random.beta(alpha, alpha)\n",
    "    else:\n",
    "        lam = 1\n",
    "    \n",
    "    batch_size = x.size(0)\n",
    "    index = torch.randperm(batch_size).to(x.device)\n",
    "    \n",
    "    mixed_x = lam * x + (1 - lam) * x[index, :]\n",
    "    y_a, y_b = y, y[index]\n",
    "    return mixed_x, y_a, y_b, lam\n",
    "\n",
    "def mixup_criterion(criterion, pred, y_a, y_b, lam):\n",
    "    \"\"\"Compute mixup loss.\"\"\"\n",
    "    return lam * criterion(pred, y_a) + (1 - lam) * criterion(pred, y_b)\n",
    "\n",
    "def train_epoch(model, loader, criterion, optimizer, scaler, epoch):\n",
    "    \"\"\"Train for one epoch.\"\"\"\n",
    "    model.train()\n",
    "    running_loss = 0.0\n",
    "    correct = 0\n",
    "    total = 0\n",
    "    \n",
    "    pbar = tqdm(loader, desc=f'Epoch {epoch:2d}')\n",
    "    \n",
    "    for batch_idx, (data, target) in enumerate(pbar):\n",
    "        data, target = data.to(device), target.to(device)\n",
    "        \n",
    "        # Apply mixup with probability\n",
    "        if np.random.random() < 0.5:\n",
    "            data, target_a, target_b, lam = mixup_data(data, target, CONFIG['mixup_alpha'])\n",
    "            \n",
    "            optimizer.zero_grad()\n",
    "            \n",
    "            with autocast():\n",
    "                output = model(data)\n",
    "                loss = mixup_criterion(criterion, output, target_a, target_b, lam)\n",
    "            \n",
    "            scaler.scale(loss).backward()\n",
    "            scaler.step(optimizer)\n",
    "            scaler.update()\n",
    "            \n",
    "            # Calculate accuracy for mixup\n",
    "            _, predicted = output.max(1)\n",
    "            total += target.size(0)\n",
    "            correct += (lam * predicted.eq(target_a).sum().float() + \n",
    "                       (1 - lam) * predicted.eq(target_b).sum().float()).item()\n",
    "        else:\n",
    "            optimizer.zero_grad()\n",
    "            \n",
    "            with autocast():\n",
    "                output = model(data)\n",
    "                loss = criterion(output, target)\n",
    "            \n",
    "            scaler.scale(loss).backward()\n",
    "            scaler.step(optimizer)\n",
    "            scaler.update()\n",
    "            \n",
    "            # Calculate accuracy\n",
    "            _, predicted = output.max(1)\n",
    "            total += target.size(0)\n",
    "            correct += predicted.eq(target).sum().item()\n",
    "        \n",
    "        running_loss += loss.item()\n",
    "        \n",
    "        # Update progress bar\n",
    "        pbar.set_postfix({\n",
    "            'Loss': f'{running_loss/(batch_idx+1):.4f}',\n",
    "            'Acc': f'{100.*correct/total:.2f}%'\n",
    "        })\n",
    "    \n",
    "    epoch_loss = running_loss / len(loader)\n",
    "    epoch_acc = 100. * correct / total\n",
    "    \n",
    "    return epoch_loss, epoch_acc\n",
    "\n",
    "def validate(model, loader, criterion):\n",
    "    \"\"\"Validate model.\"\"\"\n",
    "    model.eval()\n",
    "    running_loss = 0.0\n",
    "    correct = 0\n",
    "    total = 0\n",
    "    \n",
    "    with torch.no_grad():\n",
    "        for data, target in loader:\n",
    "            data, target = data.to(device), target.to(device)\n",
    "            \n",
    "            with autocast():\n",
    "                output = model(data)\n",
    "                loss = criterion(output, target)\n",
    "            \n",
    "            running_loss += loss.item()\n",
    "            _, predicted = output.max(1)\n",
    "            total += target.size(0)\n",
    "            correct += predicted.eq(target).sum().item()\n",
    "    \n",
    "    avg_loss = running_loss / len(loader)\n",
    "    accuracy = 100. * correct / total\n",
    "    \n",
    "    return avg_loss, accuracy\n",
    "\n",
    "print(\"Training functions defined\")"
   ]
  },
  {
   "cell_type": "markdown",
   "id": "49b43926",
   "metadata": {},
   "source": [
    "## 8. Training Loop"
   ]
  },
  {
   "cell_type": "code",
   "execution_count": 14,
   "id": "dfe6a06f",
   "metadata": {},
   "outputs": [
    {
     "name": "stdout",
     "output_type": "stream",
     "text": [
      "Starting training...\n",
      "============================================================\n"
     ]
    },
    {
     "name": "stderr",
     "output_type": "stream",
     "text": [
      "Epoch  1: 100%|██████████| 604/604 [00:45<00:00, 13.37it/s, Loss=1.4401, Acc=42.83%]\n",
      "\n"
     ]
    },
    {
     "name": "stdout",
     "output_type": "stream",
     "text": [
      "\n",
      "Epoch  1 Summary:\n",
      "  Train: Loss=1.4401, Acc=42.83%\n",
      "  Val:   Loss=1.3013, Acc=51.98%\n",
      "  LR:    9.76e-04\n",
      "  Time:  50.6s\n",
      "  >> New best validation accuracy: 51.98%\n",
      "------------------------------------------------------------\n"
     ]
    },
    {
     "name": "stderr",
     "output_type": "stream",
     "text": [
      "Epoch  2: 100%|██████████| 604/604 [00:45<00:00, 13.32it/s, Loss=1.3296, Acc=49.79%]\n",
      "\n"
     ]
    },
    {
     "name": "stdout",
     "output_type": "stream",
     "text": [
      "\n",
      "Epoch  2 Summary:\n",
      "  Train: Loss=1.3296, Acc=49.79%\n",
      "  Val:   Loss=1.2147, Acc=56.22%\n",
      "  LR:    9.05e-04\n",
      "  Time:  51.3s\n",
      "  >> New best validation accuracy: 56.22%\n",
      "------------------------------------------------------------\n"
     ]
    },
    {
     "name": "stderr",
     "output_type": "stream",
     "text": [
      "Epoch  3: 100%|██████████| 604/604 [00:44<00:00, 13.46it/s, Loss=1.2929, Acc=51.87%]\n",
      "\n"
     ]
    },
    {
     "name": "stdout",
     "output_type": "stream",
     "text": [
      "\n",
      "Epoch  3 Summary:\n",
      "  Train: Loss=1.2929, Acc=51.87%\n",
      "  Val:   Loss=1.2025, Acc=56.95%\n",
      "  LR:    7.94e-04\n",
      "  Time:  50.6s\n",
      "  >> New best validation accuracy: 56.95%\n",
      "------------------------------------------------------------\n"
     ]
    },
    {
     "name": "stderr",
     "output_type": "stream",
     "text": [
      "Epoch  4: 100%|██████████| 604/604 [00:43<00:00, 14.02it/s, Loss=1.2729, Acc=53.44%]\n",
      "\n"
     ]
    },
    {
     "name": "stdout",
     "output_type": "stream",
     "text": [
      "\n",
      "Epoch  4 Summary:\n",
      "  Train: Loss=1.2729, Acc=53.44%\n",
      "  Val:   Loss=1.1839, Acc=57.84%\n",
      "  LR:    6.55e-04\n",
      "  Time:  49.2s\n",
      "  >> New best validation accuracy: 57.84%\n",
      "------------------------------------------------------------\n"
     ]
    },
    {
     "name": "stderr",
     "output_type": "stream",
     "text": [
      "Epoch  5: 100%|██████████| 604/604 [00:42<00:00, 14.29it/s, Loss=1.2452, Acc=54.66%]\n",
      "\n"
     ]
    },
    {
     "name": "stdout",
     "output_type": "stream",
     "text": [
      "\n",
      "Epoch  5 Summary:\n",
      "  Train: Loss=1.2452, Acc=54.66%\n",
      "  Val:   Loss=1.1650, Acc=58.73%\n",
      "  LR:    5.01e-04\n",
      "  Time:  48.2s\n",
      "  >> New best validation accuracy: 58.73%\n",
      "------------------------------------------------------------\n"
     ]
    },
    {
     "name": "stderr",
     "output_type": "stream",
     "text": [
      "Epoch  6: 100%|██████████| 604/604 [00:41<00:00, 14.53it/s, Loss=1.2423, Acc=54.86%]\n",
      "\n"
     ]
    },
    {
     "name": "stdout",
     "output_type": "stream",
     "text": [
      "\n",
      "Epoch  6 Summary:\n",
      "  Train: Loss=1.2423, Acc=54.86%\n",
      "  Val:   Loss=1.1296, Acc=60.80%\n",
      "  LR:    3.46e-04\n",
      "  Time:  47.0s\n",
      "  >> New best validation accuracy: 60.80%\n",
      "------------------------------------------------------------\n"
     ]
    },
    {
     "name": "stderr",
     "output_type": "stream",
     "text": [
      "Epoch  7: 100%|██████████| 604/604 [00:45<00:00, 13.33it/s, Loss=1.2011, Acc=57.18%]\n",
      "\n"
     ]
    },
    {
     "name": "stdout",
     "output_type": "stream",
     "text": [
      "\n",
      "Epoch  7 Summary:\n",
      "  Train: Loss=1.2011, Acc=57.18%\n",
      "  Val:   Loss=1.1198, Acc=61.07%\n",
      "  LR:    2.07e-04\n",
      "  Time:  51.7s\n",
      "  >> New best validation accuracy: 61.07%\n",
      "------------------------------------------------------------\n"
     ]
    },
    {
     "name": "stderr",
     "output_type": "stream",
     "text": [
      "Epoch  8: 100%|██████████| 604/604 [00:43<00:00, 13.80it/s, Loss=1.1917, Acc=58.44%]\n",
      "\n"
     ]
    },
    {
     "name": "stdout",
     "output_type": "stream",
     "text": [
      "\n",
      "Epoch  8 Summary:\n",
      "  Train: Loss=1.1917, Acc=58.44%\n",
      "  Val:   Loss=1.1125, Acc=61.94%\n",
      "  LR:    9.64e-05\n",
      "  Time:  50.4s\n",
      "  >> New best validation accuracy: 61.94%\n",
      "------------------------------------------------------------\n",
      "  >> New best validation accuracy: 61.94%\n",
      "------------------------------------------------------------\n"
     ]
    },
    {
     "name": "stderr",
     "output_type": "stream",
     "text": [
      "Epoch  9: 100%|██████████| 604/604 [00:43<00:00, 13.93it/s, Loss=1.1670, Acc=59.52%]\n",
      "\n"
     ]
    },
    {
     "name": "stdout",
     "output_type": "stream",
     "text": [
      "\n",
      "Epoch  9 Summary:\n",
      "  Train: Loss=1.1670, Acc=59.52%\n",
      "  Val:   Loss=1.1082, Acc=62.12%\n",
      "  LR:    2.54e-05\n",
      "  Time:  49.4s\n",
      "  >> New best validation accuracy: 62.12%\n",
      "------------------------------------------------------------\n"
     ]
    },
    {
     "name": "stderr",
     "output_type": "stream",
     "text": [
      "Epoch 10: 100%|██████████| 604/604 [00:40<00:00, 14.80it/s, Loss=1.1650, Acc=59.27%]\n",
      "\n"
     ]
    },
    {
     "name": "stdout",
     "output_type": "stream",
     "text": [
      "\n",
      "Epoch 10 Summary:\n",
      "  Train: Loss=1.1650, Acc=59.27%\n",
      "  Val:   Loss=1.1063, Acc=61.94%\n",
      "  LR:    1.00e-03\n",
      "  Time:  46.5s\n",
      "  >> Patience: 1/8\n",
      "------------------------------------------------------------\n"
     ]
    },
    {
     "name": "stderr",
     "output_type": "stream",
     "text": [
      "Epoch 11: 100%|██████████| 604/604 [00:40<00:00, 14.76it/s, Loss=1.2341, Acc=55.52%]\n",
      "\n"
     ]
    },
    {
     "name": "stdout",
     "output_type": "stream",
     "text": [
      "\n",
      "Epoch 11 Summary:\n",
      "  Train: Loss=1.2341, Acc=55.52%\n",
      "  Val:   Loss=1.1403, Acc=60.36%\n",
      "  LR:    9.94e-04\n",
      "  Time:  46.4s\n",
      "  >> Patience: 2/8\n",
      "------------------------------------------------------------\n"
     ]
    },
    {
     "name": "stderr",
     "output_type": "stream",
     "text": [
      "Epoch 12: 100%|██████████| 604/604 [00:41<00:00, 14.68it/s, Loss=1.2272, Acc=56.16%]\n",
      "\n"
     ]
    },
    {
     "name": "stdout",
     "output_type": "stream",
     "text": [
      "\n",
      "Epoch 12 Summary:\n",
      "  Train: Loss=1.2272, Acc=56.16%\n",
      "  Val:   Loss=1.1375, Acc=61.38%\n",
      "  LR:    9.76e-04\n",
      "  Time:  46.8s\n",
      "  >> Patience: 3/8\n",
      "------------------------------------------------------------\n"
     ]
    },
    {
     "name": "stderr",
     "output_type": "stream",
     "text": [
      "Epoch 13: 100%|██████████| 604/604 [00:40<00:00, 15.00it/s, Loss=1.2165, Acc=56.59%]\n",
      "\n"
     ]
    },
    {
     "name": "stdout",
     "output_type": "stream",
     "text": [
      "\n",
      "Epoch 13 Summary:\n",
      "  Train: Loss=1.2165, Acc=56.59%\n",
      "  Val:   Loss=1.1306, Acc=61.15%\n",
      "  LR:    9.46e-04\n",
      "  Time:  45.9s\n",
      "  >> Patience: 4/8\n",
      "------------------------------------------------------------\n"
     ]
    },
    {
     "name": "stderr",
     "output_type": "stream",
     "text": [
      "Epoch 14: 100%|██████████| 604/604 [00:41<00:00, 14.57it/s, Loss=1.2068, Acc=57.38%]\n",
      "\n"
     ]
    },
    {
     "name": "stdout",
     "output_type": "stream",
     "text": [
      "\n",
      "Epoch 14 Summary:\n",
      "  Train: Loss=1.2068, Acc=57.38%\n",
      "  Val:   Loss=1.1320, Acc=61.46%\n",
      "  LR:    9.05e-04\n",
      "  Time:  47.1s\n",
      "  >> Patience: 5/8\n",
      "------------------------------------------------------------\n"
     ]
    },
    {
     "name": "stderr",
     "output_type": "stream",
     "text": [
      "Epoch 15: 100%|██████████| 604/604 [00:42<00:00, 14.38it/s, Loss=1.2012, Acc=57.65%]\n",
      "\n"
     ]
    },
    {
     "name": "stdout",
     "output_type": "stream",
     "text": [
      "\n",
      "Epoch 15 Summary:\n",
      "  Train: Loss=1.2012, Acc=57.65%\n",
      "  Val:   Loss=1.1219, Acc=61.63%\n",
      "  LR:    8.54e-04\n",
      "  Time:  47.6s\n",
      "  >> Patience: 6/8\n",
      "------------------------------------------------------------\n"
     ]
    },
    {
     "name": "stderr",
     "output_type": "stream",
     "text": [
      "Epoch 16: 100%|██████████| 604/604 [00:40<00:00, 14.90it/s, Loss=1.1917, Acc=58.51%]\n",
      "\n"
     ]
    },
    {
     "name": "stdout",
     "output_type": "stream",
     "text": [
      "\n",
      "Epoch 16 Summary:\n",
      "  Train: Loss=1.1917, Acc=58.51%\n",
      "  Val:   Loss=1.1036, Acc=62.29%\n",
      "  LR:    7.94e-04\n",
      "  Time:  45.9s\n",
      "  >> New best validation accuracy: 62.29%\n",
      "------------------------------------------------------------\n"
     ]
    },
    {
     "name": "stderr",
     "output_type": "stream",
     "text": [
      "Epoch 17: 100%|██████████| 604/604 [00:42<00:00, 14.20it/s, Loss=1.1748, Acc=59.04%]\n",
      "\n"
     ]
    },
    {
     "name": "stdout",
     "output_type": "stream",
     "text": [
      "\n",
      "Epoch 17 Summary:\n",
      "  Train: Loss=1.1748, Acc=59.04%\n",
      "  Val:   Loss=1.1233, Acc=61.15%\n",
      "  LR:    7.27e-04\n",
      "  Time:  48.6s\n",
      "  >> Patience: 1/8\n",
      "------------------------------------------------------------\n"
     ]
    },
    {
     "name": "stderr",
     "output_type": "stream",
     "text": [
      "Epoch 18: 100%|██████████| 604/604 [00:41<00:00, 14.50it/s, Loss=1.1630, Acc=59.79%]\n",
      "\n"
     ]
    },
    {
     "name": "stdout",
     "output_type": "stream",
     "text": [
      "\n",
      "Epoch 18 Summary:\n",
      "  Train: Loss=1.1630, Acc=59.79%\n",
      "  Val:   Loss=1.1008, Acc=63.06%\n",
      "  LR:    6.55e-04\n",
      "  Time:  48.1s\n",
      "  >> New best validation accuracy: 63.06%\n",
      "------------------------------------------------------------\n"
     ]
    },
    {
     "name": "stderr",
     "output_type": "stream",
     "text": [
      "Epoch 19: 100%|██████████| 604/604 [00:42<00:00, 14.12it/s, Loss=1.1457, Acc=60.74%]\n",
      "\n"
     ]
    },
    {
     "name": "stdout",
     "output_type": "stream",
     "text": [
      "\n",
      "Epoch 19 Summary:\n",
      "  Train: Loss=1.1457, Acc=60.74%\n",
      "  Val:   Loss=1.1079, Acc=62.35%\n",
      "  LR:    5.79e-04\n",
      "  Time:  48.2s\n",
      "  >> Patience: 1/8\n",
      "------------------------------------------------------------\n"
     ]
    },
    {
     "name": "stderr",
     "output_type": "stream",
     "text": [
      "Epoch 20: 100%|██████████| 604/604 [00:40<00:00, 14.81it/s, Loss=1.1556, Acc=60.66%]\n",
      "\n"
     ]
    },
    {
     "name": "stdout",
     "output_type": "stream",
     "text": [
      "\n",
      "Epoch 20 Summary:\n",
      "  Train: Loss=1.1556, Acc=60.66%\n",
      "  Val:   Loss=1.0896, Acc=63.76%\n",
      "  LR:    5.01e-04\n",
      "  Time:  46.7s\n",
      "  >> New best validation accuracy: 63.76%\n",
      "------------------------------------------------------------\n"
     ]
    },
    {
     "name": "stderr",
     "output_type": "stream",
     "text": [
      "Epoch 21: 100%|██████████| 604/604 [00:41<00:00, 14.69it/s, Loss=1.1421, Acc=61.32%]\n",
      "\n"
     ]
    },
    {
     "name": "stdout",
     "output_type": "stream",
     "text": [
      "\n",
      "Epoch 21 Summary:\n",
      "  Train: Loss=1.1421, Acc=61.32%\n",
      "  Val:   Loss=1.0954, Acc=63.18%\n",
      "  LR:    4.22e-04\n",
      "  Time:  46.7s\n",
      "  >> Patience: 1/8\n",
      "------------------------------------------------------------\n"
     ]
    },
    {
     "name": "stderr",
     "output_type": "stream",
     "text": [
      "Epoch 22: 100%|██████████| 604/604 [00:40<00:00, 14.79it/s, Loss=1.1196, Acc=62.63%]\n",
      "\n"
     ]
    },
    {
     "name": "stdout",
     "output_type": "stream",
     "text": [
      "\n",
      "Epoch 22 Summary:\n",
      "  Train: Loss=1.1196, Acc=62.63%\n",
      "  Val:   Loss=1.0881, Acc=63.43%\n",
      "  LR:    3.46e-04\n",
      "  Time:  46.5s\n",
      "  >> Patience: 2/8\n",
      "------------------------------------------------------------\n"
     ]
    },
    {
     "name": "stderr",
     "output_type": "stream",
     "text": [
      "Epoch 23: 100%|██████████| 604/604 [00:40<00:00, 14.87it/s, Loss=1.1115, Acc=63.39%]\n",
      "\n"
     ]
    },
    {
     "name": "stdout",
     "output_type": "stream",
     "text": [
      "\n",
      "Epoch 23 Summary:\n",
      "  Train: Loss=1.1115, Acc=63.39%\n",
      "  Val:   Loss=1.0929, Acc=63.80%\n",
      "  LR:    2.74e-04\n",
      "  Time:  46.0s\n",
      "  >> New best validation accuracy: 63.80%\n",
      "------------------------------------------------------------\n"
     ]
    },
    {
     "name": "stderr",
     "output_type": "stream",
     "text": [
      "Epoch 24: 100%|██████████| 604/604 [00:40<00:00, 14.85it/s, Loss=1.1020, Acc=63.48%]\n",
      "\n"
     ]
    },
    {
     "name": "stdout",
     "output_type": "stream",
     "text": [
      "\n",
      "Epoch 24 Summary:\n",
      "  Train: Loss=1.1020, Acc=63.48%\n",
      "  Val:   Loss=1.0812, Acc=63.74%\n",
      "  LR:    2.07e-04\n",
      "  Time:  46.5s\n",
      "  >> Patience: 1/8\n",
      "------------------------------------------------------------\n"
     ]
    },
    {
     "name": "stderr",
     "output_type": "stream",
     "text": [
      "Epoch 25: 100%|██████████| 604/604 [00:40<00:00, 14.85it/s, Loss=1.0826, Acc=64.64%]\n",
      "\n"
     ]
    },
    {
     "name": "stdout",
     "output_type": "stream",
     "text": [
      "\n",
      "Epoch 25 Summary:\n",
      "  Train: Loss=1.0826, Acc=64.64%\n",
      "  Val:   Loss=1.0833, Acc=63.99%\n",
      "  LR:    1.47e-04\n",
      "  Time:  46.5s\n",
      "  >> New best validation accuracy: 63.99%\n",
      "------------------------------------------------------------\n",
      "\n",
      "Training completed in 20.0 minutes\n",
      "Best validation accuracy: 63.99%\n"
     ]
    }
   ],
   "source": [
    "def train_model():\n",
    "    \"\"\"Complete training loop with early stopping.\"\"\"\n",
    "    \n",
    "    # Training history\n",
    "    history = {\n",
    "        'train_loss': [],\n",
    "        'train_acc': [],\n",
    "        'val_loss': [],\n",
    "        'val_acc': [],\n",
    "        'learning_rates': []\n",
    "    }\n",
    "    \n",
    "    best_val_acc = 0.0\n",
    "    patience_counter = 0\n",
    "    \n",
    "    print(\"Starting training...\")\n",
    "    print(\"=\" * 60)\n",
    "    \n",
    "    start_time = time.time()\n",
    "    \n",
    "    for epoch in range(1, CONFIG['epochs'] + 1):\n",
    "        epoch_start = time.time()\n",
    "        \n",
    "        # Train\n",
    "        train_loss, train_acc = train_epoch(\n",
    "            model, train_loader, criterion, optimizer, scaler, epoch\n",
    "        )\n",
    "        \n",
    "        # Validate\n",
    "        val_loss, val_acc = validate(model, val_loader, criterion)\n",
    "        \n",
    "        # Update scheduler\n",
    "        scheduler.step()\n",
    "        \n",
    "        # Record history\n",
    "        history['train_loss'].append(train_loss)\n",
    "        history['train_acc'].append(train_acc)\n",
    "        history['val_loss'].append(val_loss)\n",
    "        history['val_acc'].append(val_acc)\n",
    "        history['learning_rates'].append(optimizer.param_groups[0]['lr'])\n",
    "        \n",
    "        # Print epoch summary\n",
    "        epoch_time = time.time() - epoch_start\n",
    "        print(f\"\\nEpoch {epoch:2d} Summary:\")\n",
    "        print(f\"  Train: Loss={train_loss:.4f}, Acc={train_acc:.2f}%\")\n",
    "        print(f\"  Val:   Loss={val_loss:.4f}, Acc={val_acc:.2f}%\")\n",
    "        print(f\"  LR:    {optimizer.param_groups[0]['lr']:.2e}\")\n",
    "        print(f\"  Time:  {epoch_time:.1f}s\")\n",
    "        \n",
    "        # Save best model\n",
    "        if val_acc > best_val_acc:\n",
    "            best_val_acc = val_acc\n",
    "            patience_counter = 0\n",
    "            \n",
    "            torch.save({\n",
    "                'epoch': epoch,\n",
    "                'model_state_dict': model.state_dict(),\n",
    "                'optimizer_state_dict': optimizer.state_dict(),\n",
    "                'scheduler_state_dict': scheduler.state_dict(),\n",
    "                'val_acc': val_acc,\n",
    "                'config': CONFIG,\n",
    "                'history': history\n",
    "            }, os.path.join(CONFIG['save_dir'], 'best_resnet_model.pth'))\n",
    "            \n",
    "            print(f\"  >> New best validation accuracy: {best_val_acc:.2f}%\")\n",
    "        else:\n",
    "            patience_counter += 1\n",
    "            print(f\"  >> Patience: {patience_counter}/{CONFIG['patience']}\")\n",
    "        \n",
    "        # Early stopping\n",
    "        if patience_counter >= CONFIG['patience']:\n",
    "            print(f\"\\nEarly stopping triggered after {epoch} epochs\")\n",
    "            break\n",
    "        \n",
    "        print(\"-\" * 60)\n",
    "    \n",
    "    total_time = time.time() - start_time\n",
    "    print(f\"\\nTraining completed in {total_time/60:.1f} minutes\")\n",
    "    print(f\"Best validation accuracy: {best_val_acc:.2f}%\")\n",
    "    \n",
    "    return history, best_val_acc\n",
    "\n",
    "# Start training\n",
    "training_history, best_accuracy = train_model()"
   ]
  },
  {
   "cell_type": "markdown",
   "id": "8b23d799",
   "metadata": {},
   "source": [
    "## 9. Professional Visualization"
   ]
  },
  {
   "cell_type": "code",
   "execution_count": 15,
   "id": "b27ae42f",
   "metadata": {},
   "outputs": [
    {
     "data": {
      "image/png": "[encoded data removed]",
      "text/plain": [
       "<Figure size 2000x1200 with 5 Axes>"
      ]
     },
     "metadata": {},
     "output_type": "display_data"
    },
    {
     "data": {
      "text/plain": [
       "<Figure size 640x480 with 0 Axes>"
      ]
     },
     "metadata": {},
     "output_type": "display_data"
    }
   ],
   "source": [
    "def create_training_plots(history, best_acc):\n",
    "    \"\"\"Create professional training visualization.\"\"\"\n",
    "    \n",
    "    # Set up the figure\n",
    "    fig = plt.figure(figsize=(20, 12))\n",
    "    gs = fig.add_gridspec(3, 3, hspace=0.3, wspace=0.3)\n",
    "    \n",
    "    # Color palette\n",
    "    colors = {\n",
    "        'train': '#2E86AB',\n",
    "        'val': '#A23B72',\n",
    "        'lr': '#F18F01',\n",
    "        'best': '#C73E1D'\n",
    "    }\n",
    "    \n",
    "    epochs = range(1, len(history['train_loss']) + 1)\n",
    "    \n",
    "    # 1. Loss curves\n",
    "    ax1 = fig.add_subplot(gs[0, 0])\n",
    "    ax1.plot(epochs, history['train_loss'], color=colors['train'], \n",
    "             linewidth=2.5, label='Training Loss', marker='o', markersize=4)\n",
    "    ax1.plot(epochs, history['val_loss'], color=colors['val'], \n",
    "             linewidth=2.5, label='Validation Loss', marker='s', markersize=4)\n",
    "    ax1.set_title('Training & Validation Loss', fontsize=14, fontweight='bold', pad=20)\n",
    "    ax1.set_xlabel('Epoch', fontsize=12)\n",
    "    ax1.set_ylabel('Loss', fontsize=12)\n",
    "    ax1.legend(frameon=True, fancybox=True, shadow=True)\n",
    "    ax1.grid(True, alpha=0.3)\n",
    "    ax1.spines['top'].set_visible(False)\n",
    "    ax1.spines['right'].set_visible(False)\n",
    "    \n",
    "    # 2. Accuracy curves\n",
    "    ax2 = fig.add_subplot(gs[0, 1])\n",
    "    ax2.plot(epochs, history['train_acc'], color=colors['train'], \n",
    "             linewidth=2.5, label='Training Accuracy', marker='o', markersize=4)\n",
    "    ax2.plot(epochs, history['val_acc'], color=colors['val'], \n",
    "             linewidth=2.5, label='Validation Accuracy', marker='s', markersize=4)\n",
    "    \n",
    "    # Highlight best accuracy\n",
    "    best_epoch = np.argmax(history['val_acc']) + 1\n",
    "    ax2.axvline(x=best_epoch, color=colors['best'], linestyle='--', alpha=0.7, linewidth=2)\n",
    "    ax2.axhline(y=best_acc, color=colors['best'], linestyle='--', alpha=0.7, linewidth=2)\n",
    "    ax2.scatter([best_epoch], [best_acc], color=colors['best'], s=100, zorder=5)\n",
    "    ax2.annotate(f'Best: {best_acc:.2f}%\\nEpoch {best_epoch}', \n",
    "                xy=(best_epoch, best_acc), xytext=(best_epoch + 2, best_acc - 5),\n",
    "                fontsize=10, ha='left', va='top',\n",
    "                bbox=dict(boxstyle='round,pad=0.3', facecolor='white', alpha=0.8),\n",
    "                arrowprops=dict(arrowstyle='->', color=colors['best']))\n",
    "    \n",
    "    ax2.set_title('Training & Validation Accuracy', fontsize=14, fontweight='bold', pad=20)\n",
    "    ax2.set_xlabel('Epoch', fontsize=12)\n",
    "    ax2.set_ylabel('Accuracy (%)', fontsize=12)\n",
    "    ax2.legend(frameon=True, fancybox=True, shadow=True)\n",
    "    ax2.grid(True, alpha=0.3)\n",
    "    ax2.spines['top'].set_visible(False)\n",
    "    ax2.spines['right'].set_visible(False)\n",
    "    \n",
    "    # 3. Learning rate schedule\n",
    "    ax3 = fig.add_subplot(gs[0, 2])\n",
    "    ax3.plot(epochs, history['learning_rates'], color=colors['lr'], \n",
    "             linewidth=2.5, marker='o', markersize=4)\n",
    "    ax3.set_title('Learning Rate Schedule', fontsize=14, fontweight='bold', pad=20)\n",
    "    ax3.set_xlabel('Epoch', fontsize=12)\n",
    "    ax3.set_ylabel('Learning Rate', fontsize=12)\n",
    "    ax3.set_yscale('log')\n",
    "    ax3.grid(True, alpha=0.3)\n",
    "    ax3.spines['top'].set_visible(False)\n",
    "    ax3.spines['right'].set_visible(False)\n",
    "    \n",
    "    # 4. Training progress comparison\n",
    "    ax4 = fig.add_subplot(gs[1, :])\n",
    "    \n",
    "    # Normalize metrics for comparison\n",
    "    train_loss_norm = (np.array(history['train_loss']) - np.min(history['train_loss'])) / (np.max(history['train_loss']) - np.min(history['train_loss']))\n",
    "    val_loss_norm = (np.array(history['val_loss']) - np.min(history['val_loss'])) / (np.max(history['val_loss']) - np.min(history['val_loss']))\n",
    "    train_acc_norm = np.array(history['train_acc']) / 100\n",
    "    val_acc_norm = np.array(history['val_acc']) / 100\n",
    "    \n",
    "    ax4.fill_between(epochs, 0, train_loss_norm, alpha=0.3, color=colors['train'], label='Train Loss (norm)')\n",
    "    ax4.fill_between(epochs, 0, val_loss_norm, alpha=0.3, color=colors['val'], label='Val Loss (norm)')\n",
    "    ax4.plot(epochs, train_acc_norm, color=colors['train'], linewidth=3, label='Train Accuracy')\n",
    "    ax4.plot(epochs, val_acc_norm, color=colors['val'], linewidth=3, label='Val Accuracy')\n",
    "    \n",
    "    ax4.set_title('Training Progress Overview', fontsize=14, fontweight='bold', pad=20)\n",
    "    ax4.set_xlabel('Epoch', fontsize=12)\n",
    "    ax4.set_ylabel('Normalized Metrics', fontsize=12)\n",
    "    ax4.legend(loc='center right', frameon=True, fancybox=True, shadow=True)\n",
    "    ax4.grid(True, alpha=0.3)\n",
    "    ax4.spines['top'].set_visible(False)\n",
    "    ax4.spines['right'].set_visible(False)\n",
    "    \n",
    "    # 5. Training statistics\n",
    "    ax5 = fig.add_subplot(gs[2, :])\n",
    "    ax5.axis('off')\n",
    "    \n",
    "    # Create statistics table\n",
    "    stats_data = [\n",
    "        ['Metric', 'Value'],\n",
    "        ['Best Validation Accuracy', f'{best_acc:.2f}%'],\n",
    "        ['Final Training Accuracy', f'{history[\"train_acc\"][-1]:.2f}%'],\n",
    "        ['Final Training Loss', f'{history[\"train_loss\"][-1]:.4f}'],\n",
    "        ['Final Validation Loss', f'{history[\"val_loss\"][-1]:.4f}'],\n",
    "        ['Total Epochs Trained', f'{len(epochs)}'],\n",
    "        ['Best Epoch', f'{best_epoch}'],\n",
    "        ['Final Learning Rate', f'{history[\"learning_rates\"][-1]:.2e}']\n",
    "    ]\n",
    "    \n",
    "    table = ax5.table(cellText=stats_data[1:], colLabels=stats_data[0],\n",
    "                     cellLoc='center', loc='center',\n",
    "                     colWidths=[0.3, 0.2])\n",
    "    table.auto_set_font_size(False)\n",
    "    table.set_fontsize(11)\n",
    "    table.scale(1, 2)\n",
    "    \n",
    "    # Style the table\n",
    "    for i in range(len(stats_data)):\n",
    "        for j in range(2):\n",
    "            cell = table[(i, j)]\n",
    "            if i == 0:  # Header\n",
    "                cell.set_facecolor('#4472C4')\n",
    "                cell.set_text_props(weight='bold', color='white')\n",
    "            else:\n",
    "                cell.set_facecolor('#F2F2F2' if i % 2 == 0 else 'white')\n",
    "            cell.set_edgecolor('white')\n",
    "            cell.set_linewidth(2)\n",
    "    \n",
    "    # Add title\n",
    "    fig.suptitle('ResNet-18 Emotion Recognition Training Results', \n",
    "                fontsize=18, fontweight='bold', y=0.98)\n",
    "    \n",
    "    plt.tight_layout()\n",
    "    plt.show()\n",
    "    \n",
    "    # Save the plot\n",
    "    plt.savefig(os.path.join(CONFIG['save_dir'], 'training_results.png'), \n",
    "                dpi=300, bbox_inches='tight', facecolor='white')\n",
    "\n",
    "# Create visualization\n",
    "create_training_plots(training_history, best_accuracy)"
   ]
  },
  {
   "cell_type": "markdown",
   "id": "012d8cf7",
   "metadata": {},
   "source": [
    "## 10. Model Evaluation and Summary"
   ]
  },
  {
   "cell_type": "code",
   "execution_count": 16,
   "id": "552c8559",
   "metadata": {},
   "outputs": [
    {
     "name": "stdout",
     "output_type": "stream",
     "text": [
      "\n",
      "============================================================\n",
      "TRAINING COMPLETED SUCCESSFULLY\n",
      "============================================================\n",
      "Best Validation Accuracy: 63.99%\n",
      "Final Training Accuracy: 64.64%\n",
      "Final Training Loss: 1.0826\n",
      "Final Validation Loss: 1.0833\n",
      "Total Epochs: 25\n",
      "\n",
      "GPU Memory Usage:\n",
      "  Allocated: 0.27 GB\n",
      "  Cached: 0.33 GB\n",
      "\n",
      "Model saved to: ./models/best_resnet_model.pth\n",
      "Visualization saved to: ./models/training_results.png\n"
     ]
    }
   ],
   "source": [
    "# Load best model for evaluation\n",
    "checkpoint = torch.load(os.path.join(CONFIG['save_dir'], 'best_resnet_model.pth'))\n",
    "model.load_state_dict(checkpoint['model_state_dict'])\n",
    "\n",
    "# Final evaluation\n",
    "final_val_loss, final_val_acc = validate(model, val_loader, criterion)\n",
    "\n",
    "print(\"\\n\" + \"=\" * 60)\n",
    "print(\"TRAINING COMPLETED SUCCESSFULLY\")\n",
    "print(\"=\" * 60)\n",
    "print(f\"Best Validation Accuracy: {best_accuracy:.2f}%\")\n",
    "print(f\"Final Training Accuracy: {training_history['train_acc'][-1]:.2f}%\")\n",
    "print(f\"Final Training Loss: {training_history['train_loss'][-1]:.4f}\")\n",
    "print(f\"Final Validation Loss: {training_history['val_loss'][-1]:.4f}\")\n",
    "print(f\"Total Epochs: {len(training_history['train_loss'])}\")\n",
    "\n",
    "# GPU Memory usage\n",
    "if torch.cuda.is_available():\n",
    "    allocated = torch.cuda.memory_allocated() / 1024**3\n",
    "    cached = torch.cuda.memory_reserved() / 1024**3\n",
    "    print(f\"\\nGPU Memory Usage:\")\n",
    "    print(f\"  Allocated: {allocated:.2f} GB\")\n",
    "    print(f\"  Cached: {cached:.2f} GB\")\n",
    "\n",
    "print(f\"\\nModel saved to: {CONFIG['save_dir']}/best_resnet_model.pth\")\n",
    "print(f\"Visualization saved to: {CONFIG['save_dir']}/training_results.png\")\n",
    "\n"
   ]
  }
 ],
 "metadata": {
  "kernelspec": {
   "display_name": "emotion-detection",
   "language": "python",
   "name": "python3"
  },
  "language_info": {
   "codemirror_mode": {
    "name": "ipython",
    "version": 3
   },
   "file_extension": ".py",
   "mimetype": "text/x-python",
   "name": "python",
   "nbconvert_exporter": "python",
   "pygments_lexer": "ipython3",
   "version": "3.10.18"
  }
 },
 "nbformat": 4,
 "nbformat_minor": 5
}
